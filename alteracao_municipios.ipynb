{
 "cells": [
  {
   "cell_type": "code",
   "execution_count": 75,
   "metadata": {},
   "outputs": [],
   "source": [
    "import pandas as pd"
   ]
  },
  {
   "cell_type": "code",
   "execution_count": 76,
   "metadata": {},
   "outputs": [],
   "source": [
    "municipios  = pd.read_excel(\"RELATORIO_DTB_BRASIL_MUNICIPIO.ods\")"
   ]
  },
  {
   "cell_type": "code",
   "execution_count": 77,
   "metadata": {},
   "outputs": [
    {
     "data": {
      "text/html": [
       "<div>\n",
       "<style scoped>\n",
       "    .dataframe tbody tr th:only-of-type {\n",
       "        vertical-align: middle;\n",
       "    }\n",
       "\n",
       "    .dataframe tbody tr th {\n",
       "        vertical-align: top;\n",
       "    }\n",
       "\n",
       "    .dataframe thead th {\n",
       "        text-align: right;\n",
       "    }\n",
       "</style>\n",
       "<table border=\"1\" class=\"dataframe\">\n",
       "  <thead>\n",
       "    <tr style=\"text-align: right;\">\n",
       "      <th></th>\n",
       "      <th>UF</th>\n",
       "      <th>Nome_UF</th>\n",
       "      <th>Região Geográfica Intermediária</th>\n",
       "      <th>Nome Região Geográfica Intermediária</th>\n",
       "      <th>Região Geográfica Imediata</th>\n",
       "      <th>Nome Região Geográfica Imediata</th>\n",
       "      <th>Mesorregião Geográfica</th>\n",
       "      <th>Nome_Mesorregião</th>\n",
       "      <th>Microrregião Geográfica</th>\n",
       "      <th>Nome_Microrregião</th>\n",
       "      <th>Município</th>\n",
       "      <th>Código Município Completo</th>\n",
       "      <th>Nome_Município</th>\n",
       "    </tr>\n",
       "  </thead>\n",
       "  <tbody>\n",
       "    <tr>\n",
       "      <th>0</th>\n",
       "      <td>11</td>\n",
       "      <td>Rondônia</td>\n",
       "      <td>1102</td>\n",
       "      <td>Ji-Paraná</td>\n",
       "      <td>110005</td>\n",
       "      <td>Cacoal</td>\n",
       "      <td>2</td>\n",
       "      <td>Leste Rondoniense</td>\n",
       "      <td>6</td>\n",
       "      <td>Cacoal</td>\n",
       "      <td>15</td>\n",
       "      <td>1100015</td>\n",
       "      <td>Alta Floresta D'Oeste</td>\n",
       "    </tr>\n",
       "    <tr>\n",
       "      <th>1</th>\n",
       "      <td>11</td>\n",
       "      <td>Rondônia</td>\n",
       "      <td>1102</td>\n",
       "      <td>Ji-Paraná</td>\n",
       "      <td>110005</td>\n",
       "      <td>Cacoal</td>\n",
       "      <td>2</td>\n",
       "      <td>Leste Rondoniense</td>\n",
       "      <td>6</td>\n",
       "      <td>Cacoal</td>\n",
       "      <td>379</td>\n",
       "      <td>1100379</td>\n",
       "      <td>Alto Alegre dos Parecis</td>\n",
       "    </tr>\n",
       "    <tr>\n",
       "      <th>2</th>\n",
       "      <td>11</td>\n",
       "      <td>Rondônia</td>\n",
       "      <td>1101</td>\n",
       "      <td>Porto Velho</td>\n",
       "      <td>110002</td>\n",
       "      <td>Ariquemes</td>\n",
       "      <td>2</td>\n",
       "      <td>Leste Rondoniense</td>\n",
       "      <td>3</td>\n",
       "      <td>Ariquemes</td>\n",
       "      <td>403</td>\n",
       "      <td>1100403</td>\n",
       "      <td>Alto Paraíso</td>\n",
       "    </tr>\n",
       "    <tr>\n",
       "      <th>3</th>\n",
       "      <td>11</td>\n",
       "      <td>Rondônia</td>\n",
       "      <td>1102</td>\n",
       "      <td>Ji-Paraná</td>\n",
       "      <td>110004</td>\n",
       "      <td>Ji-Paraná</td>\n",
       "      <td>2</td>\n",
       "      <td>Leste Rondoniense</td>\n",
       "      <td>5</td>\n",
       "      <td>Alvorada D'Oeste</td>\n",
       "      <td>346</td>\n",
       "      <td>1100346</td>\n",
       "      <td>Alvorada D'Oeste</td>\n",
       "    </tr>\n",
       "    <tr>\n",
       "      <th>4</th>\n",
       "      <td>11</td>\n",
       "      <td>Rondônia</td>\n",
       "      <td>1101</td>\n",
       "      <td>Porto Velho</td>\n",
       "      <td>110002</td>\n",
       "      <td>Ariquemes</td>\n",
       "      <td>2</td>\n",
       "      <td>Leste Rondoniense</td>\n",
       "      <td>3</td>\n",
       "      <td>Ariquemes</td>\n",
       "      <td>23</td>\n",
       "      <td>1100023</td>\n",
       "      <td>Ariquemes</td>\n",
       "    </tr>\n",
       "  </tbody>\n",
       "</table>\n",
       "</div>"
      ],
      "text/plain": [
       "   UF   Nome_UF  Região Geográfica Intermediária  \\\n",
       "0  11  Rondônia                             1102   \n",
       "1  11  Rondônia                             1102   \n",
       "2  11  Rondônia                             1101   \n",
       "3  11  Rondônia                             1102   \n",
       "4  11  Rondônia                             1101   \n",
       "\n",
       "  Nome Região Geográfica Intermediária  Região Geográfica Imediata  \\\n",
       "0                            Ji-Paraná                      110005   \n",
       "1                            Ji-Paraná                      110005   \n",
       "2                          Porto Velho                      110002   \n",
       "3                            Ji-Paraná                      110004   \n",
       "4                          Porto Velho                      110002   \n",
       "\n",
       "  Nome Região Geográfica Imediata  Mesorregião Geográfica   Nome_Mesorregião  \\\n",
       "0                          Cacoal                       2  Leste Rondoniense   \n",
       "1                          Cacoal                       2  Leste Rondoniense   \n",
       "2                       Ariquemes                       2  Leste Rondoniense   \n",
       "3                       Ji-Paraná                       2  Leste Rondoniense   \n",
       "4                       Ariquemes                       2  Leste Rondoniense   \n",
       "\n",
       "   Microrregião Geográfica Nome_Microrregião  Município  \\\n",
       "0                        6            Cacoal         15   \n",
       "1                        6            Cacoal        379   \n",
       "2                        3         Ariquemes        403   \n",
       "3                        5  Alvorada D'Oeste        346   \n",
       "4                        3         Ariquemes         23   \n",
       "\n",
       "   Código Município Completo           Nome_Município  \n",
       "0                    1100015    Alta Floresta D'Oeste  \n",
       "1                    1100379  Alto Alegre dos Parecis  \n",
       "2                    1100403             Alto Paraíso  \n",
       "3                    1100346         Alvorada D'Oeste  \n",
       "4                    1100023                Ariquemes  "
      ]
     },
     "execution_count": 77,
     "metadata": {},
     "output_type": "execute_result"
    }
   ],
   "source": [
    "municipios.head()"
   ]
  },
  {
   "cell_type": "code",
   "execution_count": 78,
   "metadata": {},
   "outputs": [
    {
     "name": "stdout",
     "output_type": "stream",
     "text": [
      "<class 'pandas.core.frame.DataFrame'>\n",
      "RangeIndex: 5570 entries, 0 to 5569\n",
      "Data columns (total 13 columns):\n",
      " #   Column                                Non-Null Count  Dtype \n",
      "---  ------                                --------------  ----- \n",
      " 0   UF                                    5570 non-null   int64 \n",
      " 1   Nome_UF                               5570 non-null   object\n",
      " 2   Região Geográfica Intermediária       5570 non-null   int64 \n",
      " 3   Nome Região Geográfica Intermediária  5570 non-null   object\n",
      " 4   Região Geográfica Imediata            5570 non-null   int64 \n",
      " 5   Nome Região Geográfica Imediata       5570 non-null   object\n",
      " 6   Mesorregião Geográfica                5570 non-null   int64 \n",
      " 7   Nome_Mesorregião                      5570 non-null   object\n",
      " 8   Microrregião Geográfica               5570 non-null   int64 \n",
      " 9   Nome_Microrregião                     5570 non-null   object\n",
      " 10  Município                             5570 non-null   int64 \n",
      " 11  Código Município Completo             5570 non-null   int64 \n",
      " 12  Nome_Município                        5570 non-null   object\n",
      "dtypes: int64(7), object(6)\n",
      "memory usage: 565.8+ KB\n"
     ]
    }
   ],
   "source": [
    "municipios.info()"
   ]
  },
  {
   "cell_type": "code",
   "execution_count": 79,
   "metadata": {},
   "outputs": [],
   "source": [
    "cod_municipios  = municipios[['UF', 'Nome_UF', 'Nome_Município', 'Código Município Completo']]"
   ]
  },
  {
   "cell_type": "code",
   "execution_count": 80,
   "metadata": {},
   "outputs": [
    {
     "data": {
      "text/plain": [
       "UF\n",
       "31    853\n",
       "35    645\n",
       "43    497\n",
       "29    417\n",
       "41    399\n",
       "42    295\n",
       "52    246\n",
       "22    224\n",
       "25    223\n",
       "21    217\n",
       "26    185\n",
       "23    184\n",
       "24    167\n",
       "15    144\n",
       "51    141\n",
       "17    139\n",
       "27    102\n",
       "33     92\n",
       "50     79\n",
       "32     78\n",
       "28     75\n",
       "13     62\n",
       "11     52\n",
       "12     22\n",
       "16     16\n",
       "14     15\n",
       "53      1\n",
       "Name: count, dtype: int64"
      ]
     },
     "execution_count": 80,
     "metadata": {},
     "output_type": "execute_result"
    }
   ],
   "source": [
    "cod_municipios['UF'].value_counts()"
   ]
  },
  {
   "cell_type": "code",
   "execution_count": 81,
   "metadata": {},
   "outputs": [
    {
     "data": {
      "text/plain": [
       "Nome_UF\n",
       "Minas Gerais           853\n",
       "São Paulo              645\n",
       "Rio Grande do Sul      497\n",
       "Bahia                  417\n",
       "Paraná                 399\n",
       "Santa Catarina         295\n",
       "Goiás                  246\n",
       "Piauí                  224\n",
       "Paraíba                223\n",
       "Maranhão               217\n",
       "Pernambuco             185\n",
       "Ceará                  184\n",
       "Rio Grande do Norte    167\n",
       "Pará                   144\n",
       "Mato Grosso            141\n",
       "Tocantins              139\n",
       "Alagoas                102\n",
       "Rio de Janeiro          92\n",
       "Mato Grosso do Sul      79\n",
       "Espírito Santo          78\n",
       "Sergipe                 75\n",
       "Amazonas                62\n",
       "Rondônia                52\n",
       "Acre                    22\n",
       "Amapá                   16\n",
       "Roraima                 15\n",
       "Distrito Federal         1\n",
       "Name: count, dtype: int64"
      ]
     },
     "execution_count": 81,
     "metadata": {},
     "output_type": "execute_result"
    }
   ],
   "source": [
    "cod_municipios['Nome_UF'].value_counts()"
   ]
  },
  {
   "cell_type": "code",
   "execution_count": 82,
   "metadata": {},
   "outputs": [
    {
     "name": "stderr",
     "output_type": "stream",
     "text": [
      "/tmp/ipykernel_21568/1605149640.py:1: SettingWithCopyWarning: \n",
      "A value is trying to be set on a copy of a slice from a DataFrame.\n",
      "Try using .loc[row_indexer,col_indexer] = value instead\n",
      "\n",
      "See the caveats in the documentation: https://pandas.pydata.org/pandas-docs/stable/user_guide/indexing.html#returning-a-view-versus-a-copy\n",
      "  cod_municipios['Sigla_UF'] = ''\n"
     ]
    }
   ],
   "source": [
    "cod_municipios['Sigla_UF'] = ''"
   ]
  },
  {
   "cell_type": "code",
   "execution_count": 85,
   "metadata": {},
   "outputs": [],
   "source": [
    "ufs_PL_TL = ['Paraná', 'Roraima']\n",
    "ufs_PL_PNL = ['Paraíba', 'Amapá']\n",
    "ufs_duas_palavras = ['Minas Gerais', 'Distrito Federal', 'Espírito Santo', 'Santa Catarina', 'São Paulo']\n",
    "ufs_tres_palavras = ['Mato Grosso do Sul', 'Rio Grande do Norte', 'Rio Grande do Sul']\n",
    "ufs_outros = ['Acre','Rondônia','Amazonas','Sergipe', 'Alagoas', 'Tocantins', 'Pará', 'Ceará', 'Pernambuco', 'Maranhão',\n",
    "              'Piauí', 'Goiás', 'Bahia', ]\n",
    "\n",
    "i = 0\n",
    "\n",
    "for index, row in cod_municipios.iterrows():\n",
    "    nome_UF = row['Nome_UF'].split()\n",
    "    if row['Nome_UF'] == 'Rio de Janeiro':\n",
    "        cod_municipios.iat[i, 4] = nome_UF[0][0][0] + nome_UF[2][0][0]\n",
    "    elif row['Nome_UF'] == 'Mato Grosso':\n",
    "        cod_municipios.iat[i, 4] = nome_UF[0][0][0] + nome_UF[0][2][0].upper()\n",
    "    elif row['Nome_UF'] in ufs_PL_TL:\n",
    "        cod_municipios.iat[i, 4] = nome_UF[0][0] + nome_UF[0][2].upper()\n",
    "    elif row['Nome_UF'] in ufs_PL_PNL:\n",
    "        cod_municipios.iat[i, 4] = nome_UF[0][0] + nome_UF[0][-2].upper()\n",
    "    elif row['Nome_UF'] in ufs_tres_palavras:\n",
    "        cod_municipios.iat[i, 4] = nome_UF[0][0][0] + nome_UF[3][0][0]\n",
    "    elif row['Nome_UF'] in ufs_duas_palavras:\n",
    "        cod_municipios.iat[i, 4] = nome_UF[0][0][0] + nome_UF[1][0][0]\n",
    "    elif row['Nome_UF'] in ufs_outros:\n",
    "        cod_municipios.iat[i, 4] = nome_UF[0][0] + nome_UF[0][1].upper()\n",
    "    i = i+1"
   ]
  },
  {
   "cell_type": "code",
   "execution_count": 86,
   "metadata": {},
   "outputs": [],
   "source": [
    "cod_municipios = cod_municipios.rename(columns={'Código Município Completo': 'Codigo_Municipio', 'Nome_Município':'Município'})"
   ]
  },
  {
   "cell_type": "code",
   "execution_count": 87,
   "metadata": {},
   "outputs": [
    {
     "data": {
      "text/html": [
       "<div>\n",
       "<style scoped>\n",
       "    .dataframe tbody tr th:only-of-type {\n",
       "        vertical-align: middle;\n",
       "    }\n",
       "\n",
       "    .dataframe tbody tr th {\n",
       "        vertical-align: top;\n",
       "    }\n",
       "\n",
       "    .dataframe thead th {\n",
       "        text-align: right;\n",
       "    }\n",
       "</style>\n",
       "<table border=\"1\" class=\"dataframe\">\n",
       "  <thead>\n",
       "    <tr style=\"text-align: right;\">\n",
       "      <th></th>\n",
       "      <th>UF</th>\n",
       "      <th>Nome_UF</th>\n",
       "      <th>Município</th>\n",
       "      <th>Codigo_Municipio</th>\n",
       "      <th>Sigla_UF</th>\n",
       "    </tr>\n",
       "  </thead>\n",
       "  <tbody>\n",
       "    <tr>\n",
       "      <th>0</th>\n",
       "      <td>11</td>\n",
       "      <td>Rondônia</td>\n",
       "      <td>Alta Floresta D'Oeste</td>\n",
       "      <td>1100015</td>\n",
       "      <td>RO</td>\n",
       "    </tr>\n",
       "    <tr>\n",
       "      <th>1</th>\n",
       "      <td>11</td>\n",
       "      <td>Rondônia</td>\n",
       "      <td>Alto Alegre dos Parecis</td>\n",
       "      <td>1100379</td>\n",
       "      <td>RO</td>\n",
       "    </tr>\n",
       "    <tr>\n",
       "      <th>2</th>\n",
       "      <td>11</td>\n",
       "      <td>Rondônia</td>\n",
       "      <td>Alto Paraíso</td>\n",
       "      <td>1100403</td>\n",
       "      <td>RO</td>\n",
       "    </tr>\n",
       "    <tr>\n",
       "      <th>3</th>\n",
       "      <td>11</td>\n",
       "      <td>Rondônia</td>\n",
       "      <td>Alvorada D'Oeste</td>\n",
       "      <td>1100346</td>\n",
       "      <td>RO</td>\n",
       "    </tr>\n",
       "    <tr>\n",
       "      <th>4</th>\n",
       "      <td>11</td>\n",
       "      <td>Rondônia</td>\n",
       "      <td>Ariquemes</td>\n",
       "      <td>1100023</td>\n",
       "      <td>RO</td>\n",
       "    </tr>\n",
       "    <tr>\n",
       "      <th>...</th>\n",
       "      <td>...</td>\n",
       "      <td>...</td>\n",
       "      <td>...</td>\n",
       "      <td>...</td>\n",
       "      <td>...</td>\n",
       "    </tr>\n",
       "    <tr>\n",
       "      <th>5565</th>\n",
       "      <td>52</td>\n",
       "      <td>Goiás</td>\n",
       "      <td>Vianópolis</td>\n",
       "      <td>5222005</td>\n",
       "      <td>GO</td>\n",
       "    </tr>\n",
       "    <tr>\n",
       "      <th>5566</th>\n",
       "      <td>52</td>\n",
       "      <td>Goiás</td>\n",
       "      <td>Vicentinópolis</td>\n",
       "      <td>5222054</td>\n",
       "      <td>GO</td>\n",
       "    </tr>\n",
       "    <tr>\n",
       "      <th>5567</th>\n",
       "      <td>52</td>\n",
       "      <td>Goiás</td>\n",
       "      <td>Vila Boa</td>\n",
       "      <td>5222203</td>\n",
       "      <td>GO</td>\n",
       "    </tr>\n",
       "    <tr>\n",
       "      <th>5568</th>\n",
       "      <td>52</td>\n",
       "      <td>Goiás</td>\n",
       "      <td>Vila Propício</td>\n",
       "      <td>5222302</td>\n",
       "      <td>GO</td>\n",
       "    </tr>\n",
       "    <tr>\n",
       "      <th>5569</th>\n",
       "      <td>53</td>\n",
       "      <td>Distrito Federal</td>\n",
       "      <td>Brasília</td>\n",
       "      <td>5300108</td>\n",
       "      <td>DF</td>\n",
       "    </tr>\n",
       "  </tbody>\n",
       "</table>\n",
       "<p>5570 rows × 5 columns</p>\n",
       "</div>"
      ],
      "text/plain": [
       "      UF           Nome_UF                Município  Codigo_Municipio Sigla_UF\n",
       "0     11          Rondônia    Alta Floresta D'Oeste           1100015       RO\n",
       "1     11          Rondônia  Alto Alegre dos Parecis           1100379       RO\n",
       "2     11          Rondônia             Alto Paraíso           1100403       RO\n",
       "3     11          Rondônia         Alvorada D'Oeste           1100346       RO\n",
       "4     11          Rondônia                Ariquemes           1100023       RO\n",
       "...   ..               ...                      ...               ...      ...\n",
       "5565  52             Goiás               Vianópolis           5222005       GO\n",
       "5566  52             Goiás           Vicentinópolis           5222054       GO\n",
       "5567  52             Goiás                 Vila Boa           5222203       GO\n",
       "5568  52             Goiás            Vila Propício           5222302       GO\n",
       "5569  53  Distrito Federal                 Brasília           5300108       DF\n",
       "\n",
       "[5570 rows x 5 columns]"
      ]
     },
     "execution_count": 87,
     "metadata": {},
     "output_type": "execute_result"
    }
   ],
   "source": [
    "cod_municipios"
   ]
  },
  {
   "cell_type": "code",
   "execution_count": 88,
   "metadata": {},
   "outputs": [
    {
     "name": "stdout",
     "output_type": "stream",
     "text": [
      "<class 'pandas.core.frame.DataFrame'>\n",
      "RangeIndex: 5570 entries, 0 to 5569\n",
      "Data columns (total 5 columns):\n",
      " #   Column            Non-Null Count  Dtype \n",
      "---  ------            --------------  ----- \n",
      " 0   UF                5570 non-null   int64 \n",
      " 1   Nome_UF           5570 non-null   object\n",
      " 2   Município         5570 non-null   object\n",
      " 3   Codigo_Municipio  5570 non-null   int64 \n",
      " 4   Sigla_UF          5570 non-null   object\n",
      "dtypes: int64(2), object(3)\n",
      "memory usage: 217.7+ KB\n"
     ]
    }
   ],
   "source": [
    "cod_municipios.info()"
   ]
  },
  {
   "cell_type": "code",
   "execution_count": 89,
   "metadata": {},
   "outputs": [
    {
     "data": {
      "text/plain": [
       "Sigla_UF\n",
       "MG    853\n",
       "SP    645\n",
       "RS    497\n",
       "BA    417\n",
       "PR    399\n",
       "SC    295\n",
       "GO    246\n",
       "PI    224\n",
       "PB    223\n",
       "MA    217\n",
       "PE    185\n",
       "CE    184\n",
       "RN    167\n",
       "PA    144\n",
       "MT    141\n",
       "TO    139\n",
       "AL    102\n",
       "RJ     92\n",
       "MS     79\n",
       "ES     78\n",
       "SE     75\n",
       "AM     62\n",
       "RO     52\n",
       "AC     22\n",
       "AP     16\n",
       "RR     15\n",
       "DF      1\n",
       "Name: count, dtype: int64"
      ]
     },
     "execution_count": 89,
     "metadata": {},
     "output_type": "execute_result"
    }
   ],
   "source": [
    "cod_municipios['Sigla_UF'].value_counts()"
   ]
  },
  {
   "cell_type": "code",
   "execution_count": null,
   "metadata": {},
   "outputs": [
    {
     "data": {
      "text/plain": [
       "Nome_UF\n",
       "Minas Gerais           853\n",
       "São Paulo              645\n",
       "Rio Grande do Sul      497\n",
       "Bahia                  417\n",
       "Paraná                 399\n",
       "Santa Catarina         295\n",
       "Goiás                  246\n",
       "Piauí                  224\n",
       "Paraíba                223\n",
       "Maranhão               217\n",
       "Pernambuco             185\n",
       "Ceará                  184\n",
       "Rio Grande do Norte    167\n",
       "Pará                   144\n",
       "Mato Grosso            141\n",
       "Tocantins              139\n",
       "Alagoas                102\n",
       "Rio de Janeiro          92\n",
       "Mato Grosso do Sul      79\n",
       "Espírito Santo          78\n",
       "Sergipe                 75\n",
       "Amazonas                62\n",
       "Rondônia                52\n",
       "Acre                    22\n",
       "Amapá                   16\n",
       "Roraima                 15\n",
       "Distrito Federal         1\n",
       "Name: count, dtype: int64"
      ]
     },
     "execution_count": 47,
     "metadata": {},
     "output_type": "execute_result"
    }
   ],
   "source": [
    "cod_municipios['Nome_UF'].value_counts()"
   ]
  },
  {
   "cell_type": "code",
   "execution_count": 90,
   "metadata": {},
   "outputs": [],
   "source": [
    "cod_municipios.to_csv(\"Código dos Municípios\", index=False)"
   ]
  },
  {
   "cell_type": "code",
   "execution_count": null,
   "metadata": {},
   "outputs": [],
   "source": []
  }
 ],
 "metadata": {
  "kernelspec": {
   "display_name": "Python 3",
   "language": "python",
   "name": "python3"
  },
  "language_info": {
   "codemirror_mode": {
    "name": "ipython",
    "version": 3
   },
   "file_extension": ".py",
   "mimetype": "text/x-python",
   "name": "python",
   "nbconvert_exporter": "python",
   "pygments_lexer": "ipython3",
   "version": "3.10.12"
  }
 },
 "nbformat": 4,
 "nbformat_minor": 2
}
