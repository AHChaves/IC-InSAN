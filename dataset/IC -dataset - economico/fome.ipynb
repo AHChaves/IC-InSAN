{
 "cells": [
  {
   "cell_type": "code",
   "execution_count": 1,
   "id": "98441e52-97d8-4351-98c7-e6a09d3d4418",
   "metadata": {},
   "outputs": [],
   "source": [
    "import pandas as pd"
   ]
  },
  {
   "cell_type": "code",
   "execution_count": 70,
   "id": "9ccfa633-12eb-4778-a52d-43d58c3e7ee8",
   "metadata": {},
   "outputs": [],
   "source": [
    "renda = pd.read_csv('ic/Tabela 13 - renda média per capita.csv')"
   ]
  },
  {
   "cell_type": "code",
   "execution_count": 78,
   "id": "4979f08f-ff6b-4629-b8f0-cd5a71ed7184",
   "metadata": {},
   "outputs": [],
   "source": [
    "idhm = pd.read_csv(\"ic/idhm.csv\")"
   ]
  },
  {
   "cell_type": "code",
   "execution_count": 79,
   "id": "d76b92fc-5ca7-4aa5-9abf-7c5b7e824a74",
   "metadata": {},
   "outputs": [],
   "source": [
    "dictionary = {}\n",
    "for i in range(idhm.shape[0]):\n",
    "    dictionary[idhm['Município'][i]] = idhm['Código'][i]"
   ]
  },
  {
   "cell_type": "code",
   "execution_count": null,
   "id": "6383d38e-9aff-42c2-97e9-c334c499cdad",
   "metadata": {},
   "outputs": [],
   "source": []
  },
  {
   "cell_type": "code",
   "execution_count": 80,
   "id": "520444d6-15f6-48e8-bdec-12173eff77be",
   "metadata": {},
   "outputs": [],
   "source": [
    "renda['Municípios'] = renda['Municípios'].str.replace(r' -.*', '', regex=True)"
   ]
  },
  {
   "cell_type": "code",
   "execution_count": null,
   "id": "7d7bb46d-4dc4-4b23-a943-7ebce09d5d7b",
   "metadata": {},
   "outputs": [],
   "source": []
  },
  {
   "cell_type": "code",
   "execution_count": 81,
   "id": "d9a8d95c-5baf-4bb5-932b-41c84b7cafa4",
   "metadata": {},
   "outputs": [],
   "source": [
    "idhm = idhm.rename({\"Município\":\"Municípios\"}, axis=1)"
   ]
  },
  {
   "cell_type": "code",
   "execution_count": 82,
   "id": "3d2d7a9a-76f7-477b-b514-dd33893c2381",
   "metadata": {},
   "outputs": [],
   "source": [
    "dado_conjunto = renda.merge(idhm, on='Municípios')"
   ]
  },
  {
   "cell_type": "code",
   "execution_count": 85,
   "id": "1d4e5e0d-d102-4293-bb0e-5b3de1ceab39",
   "metadata": {},
   "outputs": [],
   "source": [
    "pib_municip = pd.read_csv(\"ic/PIB-dos-Municípios-base-de-dados-2010-2021-junto-com-atividade-predominante.csv\")"
   ]
  },
  {
   "cell_type": "code",
   "execution_count": 86,
   "id": "ee91776f-0c56-45cd-a08b-26718c82ffe3",
   "metadata": {},
   "outputs": [],
   "source": [
    "filter = pib_municip['Ano'] == 2021\n"
   ]
  },
  {
   "cell_type": "code",
   "execution_count": 87,
   "id": "27ca2ffd-6037-421d-a624-1d16950eebb9",
   "metadata": {},
   "outputs": [],
   "source": [
    "pib_municip = pib_municip[filter]"
   ]
  },
  {
   "cell_type": "code",
   "execution_count": 91,
   "id": "a02fda5d-1904-443e-8386-c96f0078fe1f",
   "metadata": {},
   "outputs": [],
   "source": [
    "pib_municip = pib_municip.rename({\"Código do Município\":\"Código\"},axis=1)"
   ]
  },
  {
   "cell_type": "code",
   "execution_count": 93,
   "id": "8442cf9e-a368-4690-a055-5fb973ed274c",
   "metadata": {},
   "outputs": [],
   "source": [
    "dado_conjunto2 = pib_municip.merge(dado_conjunto, on=\"Código\")"
   ]
  },
  {
   "cell_type": "code",
   "execution_count": 100,
   "id": "773bc8e5-f938-4be0-8414-1ec4ef5158d8",
   "metadata": {},
   "outputs": [],
   "source": [
    "dado_conjunto2 = dado_conjunto2.rename({\"Código\":\"Codigo\"},axis=1)"
   ]
  },
  {
   "cell_type": "code",
   "execution_count": 96,
   "id": "6aef0f43-27f8-4162-9246-d35faff9e646",
   "metadata": {},
   "outputs": [],
   "source": [
    "servicos = pd.read_excel(\"ic/pib serviços exclusive administração, defesa, educação e saúde públicas e seguridade social.xls\")"
   ]
  },
  {
   "cell_type": "code",
   "execution_count": 101,
   "id": "592a5108-7aea-4d72-b0a7-8f885dcf7f6d",
   "metadata": {},
   "outputs": [],
   "source": [
    "dado_conjunto3 = dado_conjunto2.merge(servicos, on=\"Codigo\")"
   ]
  },
  {
   "cell_type": "code",
   "execution_count": 102,
   "id": "df7c417f-b37e-41fc-aaf6-e80ae16ffe91",
   "metadata": {},
   "outputs": [],
   "source": [
    "industria = pd.read_excel(\"ic/pib industria.xls\")\n",
    "dado_conjunto4 = dado_conjunto3.merge(industria, on=\"Codigo\")"
   ]
  },
  {
   "cell_type": "code",
   "execution_count": 104,
   "id": "959ef1c0-da29-4736-a468-4b905b39f1bf",
   "metadata": {},
   "outputs": [],
   "source": [
    "agro = pd.read_excel(\"ic/pib agro municipal.xls\").drop(\"Sigla\",axis=1)\n",
    "dado_conjunto5 = dado_conjunto4.merge(agro, on=\"Codigo\")"
   ]
  },
  {
   "cell_type": "code",
   "execution_count": 105,
   "id": "20a43613-79a6-4554-87de-d4590f35c2b3",
   "metadata": {},
   "outputs": [],
   "source": [
    "dado_conjunto5.to_csv(\"agregado_economia.csv\")"
   ]
  }
 ],
 "metadata": {
  "kernelspec": {
   "display_name": "Python 3 (ipykernel)",
   "language": "python",
   "name": "python3"
  },
  "language_info": {
   "codemirror_mode": {
    "name": "ipython",
    "version": 3
   },
   "file_extension": ".py",
   "mimetype": "text/x-python",
   "name": "python",
   "nbconvert_exporter": "python",
   "pygments_lexer": "ipython3",
   "version": "3.10.12"
  }
 },
 "nbformat": 4,
 "nbformat_minor": 5
}
