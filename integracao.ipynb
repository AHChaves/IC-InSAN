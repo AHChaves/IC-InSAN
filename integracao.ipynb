{
 "cells": [
  {
   "cell_type": "markdown",
   "metadata": {},
   "source": [
    "# Imports"
   ]
  },
  {
   "cell_type": "code",
   "execution_count": 110,
   "metadata": {},
   "outputs": [],
   "source": [
    "import pandas as pd\n",
    "import numpy as np"
   ]
  },
  {
   "cell_type": "code",
   "execution_count": 111,
   "metadata": {},
   "outputs": [],
   "source": [
    "censo_agro = pd.read_excel(\"/home/arthur/Documentos/Github/IC-InSAN/dataset/Producao Alimentar/Tipos de Cultivo e Produtores/Tabela 6906.ods\")"
   ]
  },
  {
   "cell_type": "code",
   "execution_count": 112,
   "metadata": {},
   "outputs": [],
   "source": [
    "cod_municipios = pd.read_csv(\"Código dos Municípios\")"
   ]
  },
  {
   "cell_type": "markdown",
   "metadata": {},
   "source": [
    "# Analise inicial"
   ]
  },
  {
   "cell_type": "code",
   "execution_count": 113,
   "metadata": {},
   "outputs": [
    {
     "data": {
      "text/html": [
       "<div>\n",
       "<style scoped>\n",
       "    .dataframe tbody tr th:only-of-type {\n",
       "        vertical-align: middle;\n",
       "    }\n",
       "\n",
       "    .dataframe tbody tr th {\n",
       "        vertical-align: top;\n",
       "    }\n",
       "\n",
       "    .dataframe thead th {\n",
       "        text-align: right;\n",
       "    }\n",
       "</style>\n",
       "<table border=\"1\" class=\"dataframe\">\n",
       "  <thead>\n",
       "    <tr style=\"text-align: right;\">\n",
       "      <th></th>\n",
       "      <th>Município</th>\n",
       "      <th>Total</th>\n",
       "      <th>Agricultura familiar - não</th>\n",
       "      <th>Agricultura familiar - sim</th>\n",
       "    </tr>\n",
       "  </thead>\n",
       "  <tbody>\n",
       "    <tr>\n",
       "      <th>0</th>\n",
       "      <td>Alta Floresta D'Oeste (RO)</td>\n",
       "      <td>2582</td>\n",
       "      <td>566</td>\n",
       "      <td>2016</td>\n",
       "    </tr>\n",
       "    <tr>\n",
       "      <th>1</th>\n",
       "      <td>Ariquemes (RO)</td>\n",
       "      <td>2303</td>\n",
       "      <td>543</td>\n",
       "      <td>1760</td>\n",
       "    </tr>\n",
       "    <tr>\n",
       "      <th>2</th>\n",
       "      <td>Cabixi (RO)</td>\n",
       "      <td>961</td>\n",
       "      <td>187</td>\n",
       "      <td>774</td>\n",
       "    </tr>\n",
       "    <tr>\n",
       "      <th>3</th>\n",
       "      <td>Cacoal (RO)</td>\n",
       "      <td>3438</td>\n",
       "      <td>411</td>\n",
       "      <td>3027</td>\n",
       "    </tr>\n",
       "    <tr>\n",
       "      <th>4</th>\n",
       "      <td>Cerejeiras (RO)</td>\n",
       "      <td>671</td>\n",
       "      <td>203</td>\n",
       "      <td>468</td>\n",
       "    </tr>\n",
       "  </tbody>\n",
       "</table>\n",
       "</div>"
      ],
      "text/plain": [
       "                    Município Total Agricultura familiar - não  \\\n",
       "0  Alta Floresta D'Oeste (RO)  2582                        566   \n",
       "1              Ariquemes (RO)  2303                        543   \n",
       "2                 Cabixi (RO)   961                        187   \n",
       "3                 Cacoal (RO)  3438                        411   \n",
       "4             Cerejeiras (RO)   671                        203   \n",
       "\n",
       "  Agricultura familiar - sim  \n",
       "0                       2016  \n",
       "1                       1760  \n",
       "2                        774  \n",
       "3                       3027  \n",
       "4                        468  "
      ]
     },
     "execution_count": 113,
     "metadata": {},
     "output_type": "execute_result"
    }
   ],
   "source": [
    "censo_agro.head()"
   ]
  },
  {
   "cell_type": "code",
   "execution_count": 114,
   "metadata": {},
   "outputs": [
    {
     "data": {
      "text/plain": [
       "Index(['Município', 'Total', 'Agricultura familiar - não',\n",
       "       'Agricultura familiar - sim'],\n",
       "      dtype='object')"
      ]
     },
     "execution_count": 114,
     "metadata": {},
     "output_type": "execute_result"
    }
   ],
   "source": [
    "censo_agro.columns"
   ]
  },
  {
   "cell_type": "code",
   "execution_count": 115,
   "metadata": {},
   "outputs": [
    {
     "name": "stdout",
     "output_type": "stream",
     "text": [
      "<class 'pandas.core.frame.DataFrame'>\n",
      "RangeIndex: 5563 entries, 0 to 5562\n",
      "Data columns (total 4 columns):\n",
      " #   Column                      Non-Null Count  Dtype \n",
      "---  ------                      --------------  ----- \n",
      " 0   Município                   5563 non-null   object\n",
      " 1   Total                       5563 non-null   object\n",
      " 2   Agricultura familiar - não  5563 non-null   object\n",
      " 3   Agricultura familiar - sim  5563 non-null   object\n",
      "dtypes: object(4)\n",
      "memory usage: 174.0+ KB\n"
     ]
    }
   ],
   "source": [
    "censo_agro.info()"
   ]
  },
  {
   "cell_type": "code",
   "execution_count": 116,
   "metadata": {},
   "outputs": [
    {
     "data": {
      "text/html": [
       "<div>\n",
       "<style scoped>\n",
       "    .dataframe tbody tr th:only-of-type {\n",
       "        vertical-align: middle;\n",
       "    }\n",
       "\n",
       "    .dataframe tbody tr th {\n",
       "        vertical-align: top;\n",
       "    }\n",
       "\n",
       "    .dataframe thead th {\n",
       "        text-align: right;\n",
       "    }\n",
       "</style>\n",
       "<table border=\"1\" class=\"dataframe\">\n",
       "  <thead>\n",
       "    <tr style=\"text-align: right;\">\n",
       "      <th></th>\n",
       "      <th>Município</th>\n",
       "      <th>Total</th>\n",
       "      <th>Agricultura familiar - não</th>\n",
       "      <th>Agricultura familiar - sim</th>\n",
       "    </tr>\n",
       "  </thead>\n",
       "  <tbody>\n",
       "    <tr>\n",
       "      <th>count</th>\n",
       "      <td>5563</td>\n",
       "      <td>5563</td>\n",
       "      <td>5563</td>\n",
       "      <td>5563</td>\n",
       "    </tr>\n",
       "    <tr>\n",
       "      <th>unique</th>\n",
       "      <td>5563</td>\n",
       "      <td>1867</td>\n",
       "      <td>709</td>\n",
       "      <td>1624</td>\n",
       "    </tr>\n",
       "    <tr>\n",
       "      <th>top</th>\n",
       "      <td>Brasília (DF)</td>\n",
       "      <td>216</td>\n",
       "      <td>39</td>\n",
       "      <td>190</td>\n",
       "    </tr>\n",
       "    <tr>\n",
       "      <th>freq</th>\n",
       "      <td>1</td>\n",
       "      <td>15</td>\n",
       "      <td>43</td>\n",
       "      <td>16</td>\n",
       "    </tr>\n",
       "  </tbody>\n",
       "</table>\n",
       "</div>"
      ],
      "text/plain": [
       "            Município  Total  Agricultura familiar - não  \\\n",
       "count            5563   5563                        5563   \n",
       "unique           5563   1867                         709   \n",
       "top     Brasília (DF)    216                          39   \n",
       "freq                1     15                          43   \n",
       "\n",
       "        Agricultura familiar - sim  \n",
       "count                         5563  \n",
       "unique                        1624  \n",
       "top                            190  \n",
       "freq                            16  "
      ]
     },
     "execution_count": 116,
     "metadata": {},
     "output_type": "execute_result"
    }
   ],
   "source": [
    "censo_agro.describe()"
   ]
  },
  {
   "cell_type": "markdown",
   "metadata": {},
   "source": [
    "# Transformação da Tabela"
   ]
  },
  {
   "cell_type": "markdown",
   "metadata": {},
   "source": [
    "## 2017"
   ]
  },
  {
   "cell_type": "markdown",
   "metadata": {},
   "source": [
    "### Censo agropecuario"
   ]
  },
  {
   "cell_type": "code",
   "execution_count": 117,
   "metadata": {},
   "outputs": [],
   "source": [
    "data = pd.DataFrame(columns=['MU', 'UF'])\n",
    "\n",
    "nomes= []\n",
    "ufs = []\n",
    "i = 0\n",
    "\n",
    "for index, row in censo_agro.iterrows():\n",
    "    tmp = row['Município'].split(\" (\")\n",
    "    nomes.append(tmp[0])\n",
    "    ufs.append(tmp[1].strip(\")\"))\n",
    "    \n",
    "\n",
    "for index, row in censo_agro.iterrows():\n",
    "    row['Município'] = nomes[i]\n",
    "    i = i+1"
   ]
  },
  {
   "cell_type": "code",
   "execution_count": 118,
   "metadata": {},
   "outputs": [],
   "source": [
    "censo_agro['UF'] = ''\n",
    "\n",
    "i = 0\n",
    "for index, row in censo_agro.iterrows():\n",
    "    censo_agro.iat[i, 4] = ufs[i]\n",
    "    i = i+1"
   ]
  },
  {
   "cell_type": "code",
   "execution_count": 119,
   "metadata": {},
   "outputs": [],
   "source": [
    "censo_agro['Cod_UF'] = ''\n",
    "censo_agro['Cod_Municipio'] = ''"
   ]
  },
  {
   "cell_type": "code",
   "execution_count": 122,
   "metadata": {},
   "outputs": [],
   "source": [
    "i = 0\n",
    "for index, row in censo_agro.iterrows():\n",
    "    tmp = cod_municipios.loc[cod_municipios['Nome_Município'] == row['Município']]\n",
    "    censo_agro.iat[i,6] = tmp['Código Município Completo'].values\n",
    "    censo_agro.iat[i,5] = tmp['UF'].values\n",
    "    # for idx, row2 in cod_municipios.iterrows():\n",
    "        # if row['Município'] == row2['Nome_Município']:\n",
    "        #     censo_agro.iat[i,6] = row2['Nome_Município']\n",
    "        #     censo_agro.iat[i,5] = row2['UF']\n",
    "        #     break\n",
    "    i = i + 1"
   ]
  },
  {
   "cell_type": "code",
   "execution_count": 124,
   "metadata": {},
   "outputs": [
    {
     "data": {
      "text/html": [
       "<div>\n",
       "<style scoped>\n",
       "    .dataframe tbody tr th:only-of-type {\n",
       "        vertical-align: middle;\n",
       "    }\n",
       "\n",
       "    .dataframe tbody tr th {\n",
       "        vertical-align: top;\n",
       "    }\n",
       "\n",
       "    .dataframe thead th {\n",
       "        text-align: right;\n",
       "    }\n",
       "</style>\n",
       "<table border=\"1\" class=\"dataframe\">\n",
       "  <thead>\n",
       "    <tr style=\"text-align: right;\">\n",
       "      <th></th>\n",
       "      <th>Município</th>\n",
       "      <th>Cod_Municipio</th>\n",
       "      <th>UF</th>\n",
       "      <th>Cod_UF</th>\n",
       "      <th>Agricultura familiar - sim</th>\n",
       "      <th>Agricultura familiar - não</th>\n",
       "      <th>Total</th>\n",
       "    </tr>\n",
       "  </thead>\n",
       "  <tbody>\n",
       "    <tr>\n",
       "      <th>0</th>\n",
       "      <td>Alta Floresta D'Oeste</td>\n",
       "      <td>1100015</td>\n",
       "      <td>RO</td>\n",
       "      <td>11</td>\n",
       "      <td>2016</td>\n",
       "      <td>566</td>\n",
       "      <td>2582</td>\n",
       "    </tr>\n",
       "    <tr>\n",
       "      <th>1</th>\n",
       "      <td>Ariquemes</td>\n",
       "      <td>1100023</td>\n",
       "      <td>RO</td>\n",
       "      <td>11</td>\n",
       "      <td>1760</td>\n",
       "      <td>543</td>\n",
       "      <td>2303</td>\n",
       "    </tr>\n",
       "    <tr>\n",
       "      <th>2</th>\n",
       "      <td>Cabixi</td>\n",
       "      <td>1100031</td>\n",
       "      <td>RO</td>\n",
       "      <td>11</td>\n",
       "      <td>774</td>\n",
       "      <td>187</td>\n",
       "      <td>961</td>\n",
       "    </tr>\n",
       "    <tr>\n",
       "      <th>3</th>\n",
       "      <td>Cacoal</td>\n",
       "      <td>1100049</td>\n",
       "      <td>RO</td>\n",
       "      <td>11</td>\n",
       "      <td>3027</td>\n",
       "      <td>411</td>\n",
       "      <td>3438</td>\n",
       "    </tr>\n",
       "    <tr>\n",
       "      <th>4</th>\n",
       "      <td>Cerejeiras</td>\n",
       "      <td>1100056</td>\n",
       "      <td>RO</td>\n",
       "      <td>11</td>\n",
       "      <td>468</td>\n",
       "      <td>203</td>\n",
       "      <td>671</td>\n",
       "    </tr>\n",
       "    <tr>\n",
       "      <th>...</th>\n",
       "      <td>...</td>\n",
       "      <td>...</td>\n",
       "      <td>...</td>\n",
       "      <td>...</td>\n",
       "      <td>...</td>\n",
       "      <td>...</td>\n",
       "      <td>...</td>\n",
       "    </tr>\n",
       "    <tr>\n",
       "      <th>5558</th>\n",
       "      <td>Vianópolis</td>\n",
       "      <td>5222005</td>\n",
       "      <td>GO</td>\n",
       "      <td>52</td>\n",
       "      <td>614</td>\n",
       "      <td>185</td>\n",
       "      <td>799</td>\n",
       "    </tr>\n",
       "    <tr>\n",
       "      <th>5559</th>\n",
       "      <td>Vicentinópolis</td>\n",
       "      <td>5222054</td>\n",
       "      <td>GO</td>\n",
       "      <td>52</td>\n",
       "      <td>51</td>\n",
       "      <td>69</td>\n",
       "      <td>120</td>\n",
       "    </tr>\n",
       "    <tr>\n",
       "      <th>5560</th>\n",
       "      <td>Vila Boa</td>\n",
       "      <td>5222203</td>\n",
       "      <td>GO</td>\n",
       "      <td>52</td>\n",
       "      <td>20</td>\n",
       "      <td>54</td>\n",
       "      <td>74</td>\n",
       "    </tr>\n",
       "    <tr>\n",
       "      <th>5561</th>\n",
       "      <td>Vila Propício</td>\n",
       "      <td>5222302</td>\n",
       "      <td>GO</td>\n",
       "      <td>52</td>\n",
       "      <td>377</td>\n",
       "      <td>252</td>\n",
       "      <td>629</td>\n",
       "    </tr>\n",
       "    <tr>\n",
       "      <th>5562</th>\n",
       "      <td>Brasília</td>\n",
       "      <td>5300108</td>\n",
       "      <td>DF</td>\n",
       "      <td>53</td>\n",
       "      <td>1719</td>\n",
       "      <td>1487</td>\n",
       "      <td>3206</td>\n",
       "    </tr>\n",
       "  </tbody>\n",
       "</table>\n",
       "<p>5563 rows × 7 columns</p>\n",
       "</div>"
      ],
      "text/plain": [
       "                  Município Cod_Municipio  UF Cod_UF  \\\n",
       "0     Alta Floresta D'Oeste       1100015  RO     11   \n",
       "1                 Ariquemes       1100023  RO     11   \n",
       "2                    Cabixi       1100031  RO     11   \n",
       "3                    Cacoal       1100049  RO     11   \n",
       "4                Cerejeiras       1100056  RO     11   \n",
       "...                     ...           ...  ..    ...   \n",
       "5558             Vianópolis       5222005  GO     52   \n",
       "5559         Vicentinópolis       5222054  GO     52   \n",
       "5560               Vila Boa       5222203  GO     52   \n",
       "5561          Vila Propício       5222302  GO     52   \n",
       "5562               Brasília       5300108  DF     53   \n",
       "\n",
       "     Agricultura familiar - sim Agricultura familiar - não Total  \n",
       "0                          2016                        566  2582  \n",
       "1                          1760                        543  2303  \n",
       "2                           774                        187   961  \n",
       "3                          3027                        411  3438  \n",
       "4                           468                        203   671  \n",
       "...                         ...                        ...   ...  \n",
       "5558                        614                        185   799  \n",
       "5559                         51                         69   120  \n",
       "5560                         20                         54    74  \n",
       "5561                        377                        252   629  \n",
       "5562                       1719                       1487  3206  \n",
       "\n",
       "[5563 rows x 7 columns]"
      ]
     },
     "execution_count": 124,
     "metadata": {},
     "output_type": "execute_result"
    }
   ],
   "source": [
    "censo_agro = censo_agro[['Município', 'Cod_Municipio', 'UF', 'Cod_UF', 'Agricultura familiar - sim', 'Agricultura familiar - não', 'Total']]\n",
    "censo_agro"
   ]
  },
  {
   "cell_type": "code",
   "execution_count": 125,
   "metadata": {},
   "outputs": [
    {
     "name": "stdout",
     "output_type": "stream",
     "text": [
      "<class 'pandas.core.frame.DataFrame'>\n",
      "RangeIndex: 5563 entries, 0 to 5562\n",
      "Data columns (total 7 columns):\n",
      " #   Column                      Non-Null Count  Dtype \n",
      "---  ------                      --------------  ----- \n",
      " 0   Município                   5563 non-null   object\n",
      " 1   Cod_Municipio               5563 non-null   object\n",
      " 2   UF                          5563 non-null   object\n",
      " 3   Cod_UF                      5563 non-null   object\n",
      " 4   Agricultura familiar - sim  5563 non-null   object\n",
      " 5   Agricultura familiar - não  5563 non-null   object\n",
      " 6   Total                       5563 non-null   object\n",
      "dtypes: object(7)\n",
      "memory usage: 304.4+ KB\n"
     ]
    }
   ],
   "source": [
    "censo_agro.info()"
   ]
  },
  {
   "cell_type": "markdown",
   "metadata": {},
   "source": [
    "### "
   ]
  },
  {
   "cell_type": "markdown",
   "metadata": {},
   "source": []
  },
  {
   "cell_type": "code",
   "execution_count": null,
   "metadata": {},
   "outputs": [],
   "source": []
  }
 ],
 "metadata": {
  "kernelspec": {
   "display_name": "Python 3",
   "language": "python",
   "name": "python3"
  },
  "language_info": {
   "codemirror_mode": {
    "name": "ipython",
    "version": 3
   },
   "file_extension": ".py",
   "mimetype": "text/x-python",
   "name": "python",
   "nbconvert_exporter": "python",
   "pygments_lexer": "ipython3",
   "version": "3.10.12"
  }
 },
 "nbformat": 4,
 "nbformat_minor": 2
}
