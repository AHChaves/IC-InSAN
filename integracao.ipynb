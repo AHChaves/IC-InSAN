{
 "cells": [
  {
   "cell_type": "markdown",
   "metadata": {},
   "source": [
    "# Imports"
   ]
  },
  {
   "cell_type": "code",
   "execution_count": 333,
   "metadata": {},
   "outputs": [],
   "source": [
    "import pandas as pd\n",
    "import numpy as np"
   ]
  },
  {
   "cell_type": "code",
   "execution_count": 334,
   "metadata": {},
   "outputs": [],
   "source": [
    "censo_agro = pd.read_excel(\"dataset/Producao Alimentar/Tipos de Cultivo e Produtores/Tabela 6906.ods\")"
   ]
  },
  {
   "cell_type": "code",
   "execution_count": 335,
   "metadata": {},
   "outputs": [],
   "source": [
    "cod_municipios = pd.read_csv('Código dos Municípios')"
   ]
  },
  {
   "cell_type": "code",
   "execution_count": 336,
   "metadata": {},
   "outputs": [],
   "source": [
    "amendoim = pd.read_excel(\"dataset/Producao Alimentar/Tipos de Alimento/Amendoim.xls\")\n",
    "arroz = pd.read_excel(\"dataset/Producao Alimentar/Tipos de Alimento/Arroz.xls\")\n",
    "banana = pd.read_excel(\"dataset/Producao Alimentar/Tipos de Alimento/Banana.xls\")\n",
    "batata_inglesa = pd.read_excel(\"dataset/Producao Alimentar/Tipos de Alimento/batata-inglesa.xls\")\n",
    "cacau = pd.read_excel(\"dataset/Producao Alimentar/Tipos de Alimento/Cacau.xls\")\n",
    "cafe = pd.read_excel(\"dataset/Producao Alimentar/Tipos de Alimento/Cafe.xls\")\n",
    "cana_acucar = pd.read_excel(\"dataset/Producao Alimentar/Tipos de Alimento/cana-de-açúcar.xls\")\n",
    "cebola = pd.read_excel(\"dataset/Producao Alimentar/Tipos de Alimento/Cebola.xls\")\n",
    "feijao = pd.read_excel(\"dataset/Producao Alimentar/Tipos de Alimento/Feijao.xls\")\n",
    "laranja = pd.read_excel(\"dataset/Producao Alimentar/Tipos de Alimento/Laranja.xls\")\n",
    "leite = pd.read_excel(\"dataset/Producao Alimentar/Tipos de Alimento/Leite.xls\")\n",
    "mandioca = pd.read_excel(\"dataset/Producao Alimentar/Tipos de Alimento/Mandioca.xls\")\n",
    "mel = pd.read_excel(\"dataset/Producao Alimentar/Tipos de Alimento/mel de abelha.xls\")\n",
    "milho = pd.read_excel(\"dataset/Producao Alimentar/Tipos de Alimento/Milho.xls\")\n",
    "soja = pd.read_excel(\"dataset/Producao Alimentar/Tipos de Alimento/Soja.xls\")\n",
    "tomate = pd.read_excel(\"dataset/Producao Alimentar/Tipos de Alimento/tomate.xls\")\n",
    "trigo = pd.read_excel(\"dataset/Producao Alimentar/Tipos de Alimento/trigo.xls\")\n",
    "uva = pd.read_excel(\"dataset/Producao Alimentar/Tipos de Alimento/Uva.xls\")"
   ]
  },
  {
   "cell_type": "markdown",
   "metadata": {},
   "source": [
    "# Analise inicial"
   ]
  },
  {
   "cell_type": "markdown",
   "metadata": {},
   "source": [
    "### Censo Agro"
   ]
  },
  {
   "cell_type": "code",
   "execution_count": 337,
   "metadata": {},
   "outputs": [
    {
     "data": {
      "text/html": [
       "<div>\n",
       "<style scoped>\n",
       "    .dataframe tbody tr th:only-of-type {\n",
       "        vertical-align: middle;\n",
       "    }\n",
       "\n",
       "    .dataframe tbody tr th {\n",
       "        vertical-align: top;\n",
       "    }\n",
       "\n",
       "    .dataframe thead th {\n",
       "        text-align: right;\n",
       "    }\n",
       "</style>\n",
       "<table border=\"1\" class=\"dataframe\">\n",
       "  <thead>\n",
       "    <tr style=\"text-align: right;\">\n",
       "      <th></th>\n",
       "      <th>Município</th>\n",
       "      <th>Total</th>\n",
       "      <th>Agricultura familiar - não</th>\n",
       "      <th>Agricultura familiar - sim</th>\n",
       "    </tr>\n",
       "  </thead>\n",
       "  <tbody>\n",
       "    <tr>\n",
       "      <th>0</th>\n",
       "      <td>Alta Floresta D'Oeste (RO)</td>\n",
       "      <td>2582</td>\n",
       "      <td>566</td>\n",
       "      <td>2016</td>\n",
       "    </tr>\n",
       "    <tr>\n",
       "      <th>1</th>\n",
       "      <td>Ariquemes (RO)</td>\n",
       "      <td>2303</td>\n",
       "      <td>543</td>\n",
       "      <td>1760</td>\n",
       "    </tr>\n",
       "    <tr>\n",
       "      <th>2</th>\n",
       "      <td>Cabixi (RO)</td>\n",
       "      <td>961</td>\n",
       "      <td>187</td>\n",
       "      <td>774</td>\n",
       "    </tr>\n",
       "    <tr>\n",
       "      <th>3</th>\n",
       "      <td>Cacoal (RO)</td>\n",
       "      <td>3438</td>\n",
       "      <td>411</td>\n",
       "      <td>3027</td>\n",
       "    </tr>\n",
       "    <tr>\n",
       "      <th>4</th>\n",
       "      <td>Cerejeiras (RO)</td>\n",
       "      <td>671</td>\n",
       "      <td>203</td>\n",
       "      <td>468</td>\n",
       "    </tr>\n",
       "  </tbody>\n",
       "</table>\n",
       "</div>"
      ],
      "text/plain": [
       "                    Município Total Agricultura familiar - não  \\\n",
       "0  Alta Floresta D'Oeste (RO)  2582                        566   \n",
       "1              Ariquemes (RO)  2303                        543   \n",
       "2                 Cabixi (RO)   961                        187   \n",
       "3                 Cacoal (RO)  3438                        411   \n",
       "4             Cerejeiras (RO)   671                        203   \n",
       "\n",
       "  Agricultura familiar - sim  \n",
       "0                       2016  \n",
       "1                       1760  \n",
       "2                        774  \n",
       "3                       3027  \n",
       "4                        468  "
      ]
     },
     "execution_count": 337,
     "metadata": {},
     "output_type": "execute_result"
    }
   ],
   "source": [
    "censo_agro.head()"
   ]
  },
  {
   "cell_type": "code",
   "execution_count": 338,
   "metadata": {},
   "outputs": [
    {
     "data": {
      "text/plain": [
       "Index(['Município', 'Total', 'Agricultura familiar - não',\n",
       "       'Agricultura familiar - sim'],\n",
       "      dtype='object')"
      ]
     },
     "execution_count": 338,
     "metadata": {},
     "output_type": "execute_result"
    }
   ],
   "source": [
    "censo_agro.columns"
   ]
  },
  {
   "cell_type": "code",
   "execution_count": 339,
   "metadata": {},
   "outputs": [
    {
     "name": "stdout",
     "output_type": "stream",
     "text": [
      "<class 'pandas.core.frame.DataFrame'>\n",
      "RangeIndex: 5563 entries, 0 to 5562\n",
      "Data columns (total 4 columns):\n",
      " #   Column                      Non-Null Count  Dtype \n",
      "---  ------                      --------------  ----- \n",
      " 0   Município                   5563 non-null   object\n",
      " 1   Total                       5563 non-null   object\n",
      " 2   Agricultura familiar - não  5563 non-null   object\n",
      " 3   Agricultura familiar - sim  5563 non-null   object\n",
      "dtypes: object(4)\n",
      "memory usage: 174.0+ KB\n"
     ]
    }
   ],
   "source": [
    "censo_agro.info()"
   ]
  },
  {
   "cell_type": "code",
   "execution_count": 340,
   "metadata": {},
   "outputs": [
    {
     "data": {
      "text/html": [
       "<div>\n",
       "<style scoped>\n",
       "    .dataframe tbody tr th:only-of-type {\n",
       "        vertical-align: middle;\n",
       "    }\n",
       "\n",
       "    .dataframe tbody tr th {\n",
       "        vertical-align: top;\n",
       "    }\n",
       "\n",
       "    .dataframe thead th {\n",
       "        text-align: right;\n",
       "    }\n",
       "</style>\n",
       "<table border=\"1\" class=\"dataframe\">\n",
       "  <thead>\n",
       "    <tr style=\"text-align: right;\">\n",
       "      <th></th>\n",
       "      <th>Município</th>\n",
       "      <th>Total</th>\n",
       "      <th>Agricultura familiar - não</th>\n",
       "      <th>Agricultura familiar - sim</th>\n",
       "    </tr>\n",
       "  </thead>\n",
       "  <tbody>\n",
       "    <tr>\n",
       "      <th>count</th>\n",
       "      <td>5563</td>\n",
       "      <td>5563</td>\n",
       "      <td>5563</td>\n",
       "      <td>5563</td>\n",
       "    </tr>\n",
       "    <tr>\n",
       "      <th>unique</th>\n",
       "      <td>5563</td>\n",
       "      <td>1867</td>\n",
       "      <td>709</td>\n",
       "      <td>1624</td>\n",
       "    </tr>\n",
       "    <tr>\n",
       "      <th>top</th>\n",
       "      <td>Brasília (DF)</td>\n",
       "      <td>216</td>\n",
       "      <td>39</td>\n",
       "      <td>190</td>\n",
       "    </tr>\n",
       "    <tr>\n",
       "      <th>freq</th>\n",
       "      <td>1</td>\n",
       "      <td>15</td>\n",
       "      <td>43</td>\n",
       "      <td>16</td>\n",
       "    </tr>\n",
       "  </tbody>\n",
       "</table>\n",
       "</div>"
      ],
      "text/plain": [
       "            Município  Total  Agricultura familiar - não  \\\n",
       "count            5563   5563                        5563   \n",
       "unique           5563   1867                         709   \n",
       "top     Brasília (DF)    216                          39   \n",
       "freq                1     15                          43   \n",
       "\n",
       "        Agricultura familiar - sim  \n",
       "count                         5563  \n",
       "unique                        1624  \n",
       "top                            190  \n",
       "freq                            16  "
      ]
     },
     "execution_count": 340,
     "metadata": {},
     "output_type": "execute_result"
    }
   ],
   "source": [
    "censo_agro.describe()"
   ]
  },
  {
   "cell_type": "markdown",
   "metadata": {},
   "source": [
    "### Municipios"
   ]
  },
  {
   "cell_type": "markdown",
   "metadata": {},
   "source": [
    "### IPEA"
   ]
  },
  {
   "cell_type": "markdown",
   "metadata": {},
   "source": [
    "# Transformação da Tabela"
   ]
  },
  {
   "cell_type": "markdown",
   "metadata": {},
   "source": [
    "## 2017"
   ]
  },
  {
   "cell_type": "markdown",
   "metadata": {},
   "source": [
    "### Censo agropecuario"
   ]
  },
  {
   "cell_type": "code",
   "execution_count": 341,
   "metadata": {},
   "outputs": [],
   "source": [
    "data = pd.DataFrame(columns=['MU', 'UF'])\n",
    "\n",
    "nomes= []\n",
    "ufs = []\n",
    "i = 0\n",
    "\n",
    "for index, row in censo_agro.iterrows():\n",
    "    tmp = row['Município'].split(\" (\")\n",
    "    nomes.append(tmp[0])\n",
    "    ufs.append(tmp[1].strip(\")\"))\n",
    "    \n",
    "\n",
    "for index, row in censo_agro.iterrows():\n",
    "    row['Município'] = nomes[i]\n",
    "    i = i+1"
   ]
  },
  {
   "cell_type": "code",
   "execution_count": 342,
   "metadata": {},
   "outputs": [],
   "source": [
    "censo_agro['UF'] = ''\n",
    "\n",
    "i = 0\n",
    "for index, row in censo_agro.iterrows():\n",
    "    censo_agro.iat[i, 4] = ufs[i]\n",
    "    i = i+1"
   ]
  },
  {
   "cell_type": "code",
   "execution_count": 343,
   "metadata": {},
   "outputs": [],
   "source": [
    "censo_agro['Cod_UF'] = ''\n",
    "censo_agro['Cod_Municipio'] = ''"
   ]
  },
  {
   "cell_type": "code",
   "execution_count": 344,
   "metadata": {},
   "outputs": [],
   "source": [
    "i = 0\n",
    "for index, row in censo_agro.iterrows():\n",
    "    tmp = cod_municipios.loc[cod_municipios['Nome_Município'] == row['Município']]\n",
    "    censo_agro.iat[i,6] = tmp['Código Município Completo'].values\n",
    "    censo_agro.iat[i,5] = tmp['UF'].values\n",
    "    i = i + 1"
   ]
  },
  {
   "cell_type": "code",
   "execution_count": 345,
   "metadata": {},
   "outputs": [
    {
     "data": {
      "text/html": [
       "<div>\n",
       "<style scoped>\n",
       "    .dataframe tbody tr th:only-of-type {\n",
       "        vertical-align: middle;\n",
       "    }\n",
       "\n",
       "    .dataframe tbody tr th {\n",
       "        vertical-align: top;\n",
       "    }\n",
       "\n",
       "    .dataframe thead th {\n",
       "        text-align: right;\n",
       "    }\n",
       "</style>\n",
       "<table border=\"1\" class=\"dataframe\">\n",
       "  <thead>\n",
       "    <tr style=\"text-align: right;\">\n",
       "      <th></th>\n",
       "      <th>Município</th>\n",
       "      <th>Cod_Municipio</th>\n",
       "      <th>UF</th>\n",
       "      <th>Cod_UF</th>\n",
       "      <th>Agricultura familiar - sim</th>\n",
       "      <th>Agricultura familiar - não</th>\n",
       "      <th>Total</th>\n",
       "    </tr>\n",
       "  </thead>\n",
       "  <tbody>\n",
       "    <tr>\n",
       "      <th>0</th>\n",
       "      <td>Alta Floresta D'Oeste</td>\n",
       "      <td>1100015</td>\n",
       "      <td>RO</td>\n",
       "      <td>11</td>\n",
       "      <td>2016</td>\n",
       "      <td>566</td>\n",
       "      <td>2582</td>\n",
       "    </tr>\n",
       "    <tr>\n",
       "      <th>1</th>\n",
       "      <td>Ariquemes</td>\n",
       "      <td>1100023</td>\n",
       "      <td>RO</td>\n",
       "      <td>11</td>\n",
       "      <td>1760</td>\n",
       "      <td>543</td>\n",
       "      <td>2303</td>\n",
       "    </tr>\n",
       "    <tr>\n",
       "      <th>2</th>\n",
       "      <td>Cabixi</td>\n",
       "      <td>1100031</td>\n",
       "      <td>RO</td>\n",
       "      <td>11</td>\n",
       "      <td>774</td>\n",
       "      <td>187</td>\n",
       "      <td>961</td>\n",
       "    </tr>\n",
       "    <tr>\n",
       "      <th>3</th>\n",
       "      <td>Cacoal</td>\n",
       "      <td>1100049</td>\n",
       "      <td>RO</td>\n",
       "      <td>11</td>\n",
       "      <td>3027</td>\n",
       "      <td>411</td>\n",
       "      <td>3438</td>\n",
       "    </tr>\n",
       "    <tr>\n",
       "      <th>4</th>\n",
       "      <td>Cerejeiras</td>\n",
       "      <td>1100056</td>\n",
       "      <td>RO</td>\n",
       "      <td>11</td>\n",
       "      <td>468</td>\n",
       "      <td>203</td>\n",
       "      <td>671</td>\n",
       "    </tr>\n",
       "    <tr>\n",
       "      <th>...</th>\n",
       "      <td>...</td>\n",
       "      <td>...</td>\n",
       "      <td>...</td>\n",
       "      <td>...</td>\n",
       "      <td>...</td>\n",
       "      <td>...</td>\n",
       "      <td>...</td>\n",
       "    </tr>\n",
       "    <tr>\n",
       "      <th>5558</th>\n",
       "      <td>Vianópolis</td>\n",
       "      <td>5222005</td>\n",
       "      <td>GO</td>\n",
       "      <td>52</td>\n",
       "      <td>614</td>\n",
       "      <td>185</td>\n",
       "      <td>799</td>\n",
       "    </tr>\n",
       "    <tr>\n",
       "      <th>5559</th>\n",
       "      <td>Vicentinópolis</td>\n",
       "      <td>5222054</td>\n",
       "      <td>GO</td>\n",
       "      <td>52</td>\n",
       "      <td>51</td>\n",
       "      <td>69</td>\n",
       "      <td>120</td>\n",
       "    </tr>\n",
       "    <tr>\n",
       "      <th>5560</th>\n",
       "      <td>Vila Boa</td>\n",
       "      <td>5222203</td>\n",
       "      <td>GO</td>\n",
       "      <td>52</td>\n",
       "      <td>20</td>\n",
       "      <td>54</td>\n",
       "      <td>74</td>\n",
       "    </tr>\n",
       "    <tr>\n",
       "      <th>5561</th>\n",
       "      <td>Vila Propício</td>\n",
       "      <td>5222302</td>\n",
       "      <td>GO</td>\n",
       "      <td>52</td>\n",
       "      <td>377</td>\n",
       "      <td>252</td>\n",
       "      <td>629</td>\n",
       "    </tr>\n",
       "    <tr>\n",
       "      <th>5562</th>\n",
       "      <td>Brasília</td>\n",
       "      <td>5300108</td>\n",
       "      <td>DF</td>\n",
       "      <td>53</td>\n",
       "      <td>1719</td>\n",
       "      <td>1487</td>\n",
       "      <td>3206</td>\n",
       "    </tr>\n",
       "  </tbody>\n",
       "</table>\n",
       "<p>5563 rows × 7 columns</p>\n",
       "</div>"
      ],
      "text/plain": [
       "                  Município Cod_Municipio  UF Cod_UF  \\\n",
       "0     Alta Floresta D'Oeste       1100015  RO     11   \n",
       "1                 Ariquemes       1100023  RO     11   \n",
       "2                    Cabixi       1100031  RO     11   \n",
       "3                    Cacoal       1100049  RO     11   \n",
       "4                Cerejeiras       1100056  RO     11   \n",
       "...                     ...           ...  ..    ...   \n",
       "5558             Vianópolis       5222005  GO     52   \n",
       "5559         Vicentinópolis       5222054  GO     52   \n",
       "5560               Vila Boa       5222203  GO     52   \n",
       "5561          Vila Propício       5222302  GO     52   \n",
       "5562               Brasília       5300108  DF     53   \n",
       "\n",
       "     Agricultura familiar - sim Agricultura familiar - não Total  \n",
       "0                          2016                        566  2582  \n",
       "1                          1760                        543  2303  \n",
       "2                           774                        187   961  \n",
       "3                          3027                        411  3438  \n",
       "4                           468                        203   671  \n",
       "...                         ...                        ...   ...  \n",
       "5558                        614                        185   799  \n",
       "5559                         51                         69   120  \n",
       "5560                         20                         54    74  \n",
       "5561                        377                        252   629  \n",
       "5562                       1719                       1487  3206  \n",
       "\n",
       "[5563 rows x 7 columns]"
      ]
     },
     "execution_count": 345,
     "metadata": {},
     "output_type": "execute_result"
    }
   ],
   "source": [
    "censo_agro = censo_agro[['Município', 'Cod_Municipio', 'UF', 'Cod_UF', 'Agricultura familiar - sim', 'Agricultura familiar - não', 'Total']]\n",
    "censo_agro"
   ]
  },
  {
   "cell_type": "code",
   "execution_count": 346,
   "metadata": {},
   "outputs": [
    {
     "name": "stdout",
     "output_type": "stream",
     "text": [
      "<class 'pandas.core.frame.DataFrame'>\n",
      "RangeIndex: 5563 entries, 0 to 5562\n",
      "Data columns (total 7 columns):\n",
      " #   Column                      Non-Null Count  Dtype \n",
      "---  ------                      --------------  ----- \n",
      " 0   Município                   5563 non-null   object\n",
      " 1   Cod_Municipio               5563 non-null   object\n",
      " 2   UF                          5563 non-null   object\n",
      " 3   Cod_UF                      5563 non-null   object\n",
      " 4   Agricultura familiar - sim  5563 non-null   object\n",
      " 5   Agricultura familiar - não  5563 non-null   object\n",
      " 6   Total                       5563 non-null   object\n",
      "dtypes: object(7)\n",
      "memory usage: 304.4+ KB\n"
     ]
    }
   ],
   "source": [
    "censo_agro.info()"
   ]
  },
  {
   "cell_type": "markdown",
   "metadata": {},
   "source": [
    "### IPEA"
   ]
  },
  {
   "cell_type": "code",
   "execution_count": 347,
   "metadata": {},
   "outputs": [],
   "source": [
    "anos_n = [2017, 2018, 2019, 2020, 2021, 2022, 2023]\n",
    "anos_s = ['2017', '2018', '2019', '2020', '2021', '2022', '2023']\n",
    "\n",
    "i = 0\n",
    "for x in anos_n:\n",
    "    leite = leite.rename(columns={x: anos_s[i]})\n",
    "    i += 1"
   ]
  },
  {
   "cell_type": "code",
   "execution_count": 348,
   "metadata": {},
   "outputs": [
    {
     "data": {
      "text/plain": [
       "Index(['Sigla', 'Codigo', 'Município', '2017', '2018', '2019', '2020', '2021',\n",
       "       '2022', '2023'],\n",
       "      dtype='object')"
      ]
     },
     "execution_count": 348,
     "metadata": {},
     "output_type": "execute_result"
    }
   ],
   "source": [
    "leite.columns"
   ]
  },
  {
   "cell_type": "code",
   "execution_count": 350,
   "metadata": {},
   "outputs": [],
   "source": [
    "producao_db = cod_municipios[['UF', 'Sigla_UF', 'Nome_Município', 'Código Município Completo']]"
   ]
  },
  {
   "cell_type": "code",
   "execution_count": 351,
   "metadata": {},
   "outputs": [],
   "source": [
    "producao = [amendoim, arroz, banana, batata_inglesa, cacau,\n",
    "            cafe, cana_acucar, cebola, feijao, laranja,\n",
    "            leite, mandioca, mel, milho, soja, tomate, trigo, uva]\n",
    "nomes_produtos = ['amendoim(Toneladas)', 'arroz(Toneladas)', 'banana(Toneladas)', 'batata_inglesa(Toneladas)', 'cacau(Toneladas)',\n",
    "                'cafe(Toneladas)', 'cana_acucar(Toneladas)', 'cebola(Toneladas)', 'feijao(Toneladas)', 'laranja(Toneladas)',\n",
    "                'leite(Litros)', 'mandioca(Toneladas)', 'mel(Kg)', 'milho(Toneladas)', 'soja(Toneladas)', 'tomate(Toneladas)', 'trigo(Toneladas)', 'uva(Toneladas)']"
   ]
  },
  {
   "cell_type": "code",
   "execution_count": 352,
   "metadata": {},
   "outputs": [
    {
     "name": "stderr",
     "output_type": "stream",
     "text": [
      "/tmp/ipykernel_6558/3279289271.py:3: SettingWithCopyWarning: \n",
      "A value is trying to be set on a copy of a slice from a DataFrame.\n",
      "Try using .loc[row_indexer,col_indexer] = value instead\n",
      "\n",
      "See the caveats in the documentation: https://pandas.pydata.org/pandas-docs/stable/user_guide/indexing.html#returning-a-view-versus-a-copy\n",
      "  producao_db[x] = producao[i]['2017']\n"
     ]
    }
   ],
   "source": [
    "i = 0\n",
    "for x in nomes_produtos:\n",
    "    producao_db[x] = producao[i]['2017']\n",
    "    i = i + 1"
   ]
  },
  {
   "cell_type": "code",
   "execution_count": 353,
   "metadata": {},
   "outputs": [
    {
     "data": {
      "text/plain": [
       "Index(['UF', 'Sigla_UF', 'Nome_Município', 'Código Município Completo',\n",
       "       'amendoim(Toneladas)', 'arroz(Toneladas)', 'banana(Toneladas)',\n",
       "       'batata_inglesa(Toneladas)', 'cacau(Toneladas)', 'cafe(Toneladas)',\n",
       "       'cana_acucar(Toneladas)', 'cebola(Toneladas)', 'feijao(Toneladas)',\n",
       "       'laranja(Toneladas)', 'leite(Litros)', 'mandioca(Toneladas)', 'mel(Kg)',\n",
       "       'milho(Toneladas)', 'soja(Toneladas)', 'tomate(Toneladas)',\n",
       "       'trigo(Toneladas)', 'uva(Toneladas)'],\n",
       "      dtype='object')"
      ]
     },
     "execution_count": 353,
     "metadata": {},
     "output_type": "execute_result"
    }
   ],
   "source": [
    "producao_db.columns"
   ]
  },
  {
   "cell_type": "code",
   "execution_count": 355,
   "metadata": {},
   "outputs": [],
   "source": [
    "producao_db.to_csv(\"producao 2017\")"
   ]
  },
  {
   "cell_type": "code",
   "execution_count": null,
   "metadata": {},
   "outputs": [],
   "source": []
  }
 ],
 "metadata": {
  "kernelspec": {
   "display_name": "Python 3",
   "language": "python",
   "name": "python3"
  },
  "language_info": {
   "codemirror_mode": {
    "name": "ipython",
    "version": 3
   },
   "file_extension": ".py",
   "mimetype": "text/x-python",
   "name": "python",
   "nbconvert_exporter": "python",
   "pygments_lexer": "ipython3",
   "version": "3.10.12"
  }
 },
 "nbformat": 4,
 "nbformat_minor": 2
}
