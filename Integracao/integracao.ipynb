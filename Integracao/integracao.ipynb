{
 "cells": [
  {
   "cell_type": "markdown",
   "metadata": {},
   "source": [
    "# Imports"
   ]
  },
  {
   "cell_type": "code",
   "execution_count": 1,
   "metadata": {},
   "outputs": [],
   "source": [
    "import pandas as pd"
   ]
  },
  {
   "cell_type": "markdown",
   "metadata": {},
   "source": [
    "Utilizando o metodo `%run` para rodar os codigos de integração a parte, para assim podermos utilizar as variaveis presentes em cada uma"
   ]
  },
  {
   "cell_type": "code",
   "execution_count": null,
   "metadata": {},
   "outputs": [],
   "source": [
    "%run integracao_2017.ipynb\n",
    "%run integracao_2018.ipynb\n",
    "%run integracao_2020.ipynb\n",
    "%run integracao_2021.ipynb\n",
    "%run integracao_2022.ipynb"
   ]
  },
  {
   "cell_type": "markdown",
   "metadata": {},
   "source": [
    "# Tabela"
   ]
  },
  {
   "cell_type": "markdown",
   "metadata": {},
   "source": [
    "A partir das tabelas dos códigos de integração é criado um arquivo excel único com abas separadas para cada ano."
   ]
  },
  {
   "cell_type": "code",
   "execution_count": null,
   "metadata": {},
   "outputs": [],
   "source": [
    "with pd.ExcelWriter(\"Tabela_Integrada.xlsx\") as writer:\n",
    "    bd_2017.to_excel(writer, sheet_name='2017',float_format='%.1f', index=False)\n",
    "    bd_2018.to_excel(writer, sheet_name='2018', float_format='%.1f', index=False)\n",
    "    bd_2020.to_excel(writer, sheet_name='2020', float_format='%.1f', index=False)\n",
    "    bd_2021.to_excel(writer, sheet_name='2021', float_format='%.1f', index=False)\n",
    "    bd_2022.to_excel(writer, sheet_name='2022', float_format='%.1f', index=False)"
   ]
  }
 ],
 "metadata": {
  "kernelspec": {
   "display_name": "Python 3",
   "language": "python",
   "name": "python3"
  },
  "language_info": {
   "codemirror_mode": {
    "name": "ipython",
    "version": 3
   },
   "file_extension": ".py",
   "mimetype": "text/x-python",
   "name": "python",
   "nbconvert_exporter": "python",
   "pygments_lexer": "ipython3",
   "version": "3.10.12"
  }
 },
 "nbformat": 4,
 "nbformat_minor": 2
}
