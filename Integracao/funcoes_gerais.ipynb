{
 "cells": [
  {
   "cell_type": "code",
   "execution_count": 3,
   "metadata": {},
   "outputs": [],
   "source": [
    "import pandas as pd"
   ]
  },
  {
   "cell_type": "code",
   "execution_count": 4,
   "metadata": {},
   "outputs": [],
   "source": [
    "cod_municipios = pd.read_csv('../dataset/Código dos Municípios')"
   ]
  },
  {
   "cell_type": "markdown",
   "metadata": {},
   "source": [
    "Função que separa o nome da UF do municício"
   ]
  },
  {
   "cell_type": "markdown",
   "metadata": {},
   "source": [
    "\n",
    "> Um exemplo do padrão é a alteração de `Alta Floresta D'Oeste (RO)` para duas colunas, uma contendo o nome e outra para a UF"
   ]
  },
  {
   "cell_type": "code",
   "execution_count": 5,
   "metadata": {},
   "outputs": [],
   "source": [
    "def Separa_Nome_UF(df):\n",
    "    nomes= []\n",
    "    ufs = []\n",
    "    i = 0\n",
    "\n",
    "    for index, row in df.iterrows():\n",
    "        tmp = row['Município'].split(\" (\")\n",
    "        nomes.append(tmp[0])\n",
    "        ufs.append(tmp[1].strip(\")\"))\n",
    "        \n",
    "\n",
    "    for index, row in df.iterrows():\n",
    "        df.iat[i, 0] = nomes[i]\n",
    "        i = i+1\n",
    "        \n",
    "    df['Sigla_UF'] = ''\n",
    "\n",
    "    i = 0\n",
    "    for index, row in df.iterrows():\n",
    "        df.iat[i, df.columns.size - 1] = ufs[i]\n",
    "        i = i+1"
   ]
  },
  {
   "cell_type": "markdown",
   "metadata": {},
   "source": [
    "Essa função padroniza o nome do município e UF para ser separado futuramente"
   ]
  },
  {
   "cell_type": "markdown",
   "metadata": {},
   "source": [
    "> Exemplo: Um nome de município esta no padrão  `Alta Floresta D'Oeste-RO` e é alterado para `Alta Floresta D'Oeste (RO)`"
   ]
  },
  {
   "cell_type": "code",
   "execution_count": 6,
   "metadata": {},
   "outputs": [],
   "source": [
    "def transformar_string(df):\n",
    "    i = 0\n",
    "    for index, row in df.iterrows():\n",
    "        df.iat[i, 0] = row['Município'].replace(\" - \", \" (\")\n",
    "        df.iat[i,0] = df.iat[i,0] + \")\"\n",
    "        i += 1\n"
   ]
  },
  {
   "cell_type": "markdown",
   "metadata": {},
   "source": [
    "Essa função trata os dados da PAM, devido ao fato do processo ser o mesmo para todos os anos\n",
    "\n",
    "\n",
    "\n",
    "Primeiramente separamos o nome da UF e depois adicionamos o codigo do municipio por meio de uma função MERGE, que utiliza o nome do município e a UF como chaves de identificação para atribuição do código do município.\n",
    "\n",
    "Com isso é excluido os campos de nome e UF para utilizarmos somente o código do município e movimentamos esse código para ele ser a primeira coluna\n",
    "\n",
    "por fim a função adiciona o texto _Produção de_ e a unidade de medida(_Toneladas_)\n",
    "\n"
   ]
  },
  {
   "cell_type": "code",
   "execution_count": 7,
   "metadata": {},
   "outputs": [],
   "source": [
    "def PAM(df):\n",
    "    Separa_Nome_UF(df)\n",
    "    df = df.merge(cod_municipios[['Codigo_Municipio', 'Município', 'Sigla_UF']], how='right',left_on=['Município', 'Sigla_UF'], right_on=['Município', 'Sigla_UF'])\n",
    "    df = df.drop(['Sigla_UF', 'Município'], axis=1)\n",
    "    df = df[['Codigo_Municipio'] + [col for col in df.columns if col != 'Codigo_Municipio']] \n",
    "    for x in df.columns[1:]:\n",
    "        df = df.rename(columns={x:'Produção de ' + x + '(toneladas)'})\n",
    "    return df"
   ]
  },
  {
   "cell_type": "markdown",
   "metadata": {},
   "source": [
    "Função qur trata os dados referentes a tabela do CEMPRE.\n",
    "\n",
    "primeiro renomea-se as counas referentes ao nome do município e o salário médio mensal e removemos a coluna que traz o nome da UF por extenso\n",
    "\n",
    "apos isso formatamos o nome do município e separamos o nome da UF\n",
    "\n",
    "similar a função da PAM adicionamos também a coluna de codigo do município por meio da função MERGE e removemos o nome e UF da tabela \n",
    "\n",
    "e por ultimo formatamos o padrão de medida de dinheiro para o brasileiro."
   ]
  },
  {
   "cell_type": "code",
   "execution_count": 8,
   "metadata": {},
   "outputs": [],
   "source": [
    "def CEMPRE(df):\n",
    "    df = df.rename(columns={'Municípios': 'Município', 'Salário médio\\n mensal \\n(R$) (2)': 'Salário médio mensal(R$)'})\n",
    "    df = df.drop(['Unidades da Federação'], axis=1)\n",
    "    transformar_string(df)\n",
    "    Separa_Nome_UF(df)\n",
    "    df = df.merge(cod_municipios[['Codigo_Municipio', 'Município', 'Sigla_UF']], how='right',left_on=['Município', 'Sigla_UF'], right_on=['Município', 'Sigla_UF'])\n",
    "    df = df.drop(['Sigla_UF', 'Município'], axis=1)\n",
    "    df = df[['Codigo_Municipio'] + [col for col in df.columns if col != 'Codigo_Municipio']] \n",
    "    if df['Salário médio mensal(R$)'].dtypes == 'float64':\n",
    "        df['Salário médio mensal(R$)'] = df['Salário médio mensal(R$)'].apply(lambda x: f\"{x:,.1f}\".replace(\",\", \"X\").replace(\".\", \",\").replace(\"X\", \".\"))\n",
    "    return df\n",
    "    "
   ]
  }
 ],
 "metadata": {
  "kernelspec": {
   "display_name": "Python 3",
   "language": "python",
   "name": "python3"
  },
  "language_info": {
   "codemirror_mode": {
    "name": "ipython",
    "version": 3
   },
   "file_extension": ".py",
   "mimetype": "text/x-python",
   "name": "python",
   "nbconvert_exporter": "python",
   "pygments_lexer": "ipython3",
   "version": "3.12.3"
  }
 },
 "nbformat": 4,
 "nbformat_minor": 2
}
