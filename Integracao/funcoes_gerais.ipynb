{
 "cells": [
  {
   "cell_type": "code",
   "execution_count": 11,
   "metadata": {},
   "outputs": [],
   "source": [
    "import pandas as pd"
   ]
  },
  {
   "cell_type": "code",
   "execution_count": null,
   "metadata": {},
   "outputs": [],
   "source": [
    "cod_municipios = pd.read_csv('../Código dos Municípios')"
   ]
  },
  {
   "cell_type": "code",
   "execution_count": 13,
   "metadata": {},
   "outputs": [],
   "source": [
    "def Separa_Nome_UF(df):\n",
    "    nomes= []\n",
    "    ufs = []\n",
    "    i = 0\n",
    "\n",
    "    for index, row in df.iterrows():\n",
    "        tmp = row['Município'].split(\" (\")\n",
    "        nomes.append(tmp[0])\n",
    "        ufs.append(tmp[1].strip(\")\"))\n",
    "        \n",
    "\n",
    "    for index, row in df.iterrows():\n",
    "        df.iat[i, 0] = nomes[i]\n",
    "        i = i+1\n",
    "        \n",
    "    df['Sigla_UF'] = ''\n",
    "\n",
    "    i = 0\n",
    "    for index, row in df.iterrows():\n",
    "        df.iat[i, df.columns.size - 1] = ufs[i]\n",
    "        i = i+1"
   ]
  },
  {
   "cell_type": "code",
   "execution_count": 14,
   "metadata": {},
   "outputs": [],
   "source": [
    "def transformar_string(df):\n",
    "    i = 0\n",
    "    for index, row in df.iterrows():\n",
    "        df.iat[i, 0] = row['Município'].replace(\" - \", \" (\")\n",
    "        df.iat[i,0] = df.iat[i,0] + \")\"\n",
    "        i += 1\n"
   ]
  },
  {
   "cell_type": "code",
   "execution_count": null,
   "metadata": {},
   "outputs": [],
   "source": [
    "def PAM(df):\n",
    "    Separa_Nome_UF(df)\n",
    "    df = df.merge(cod_municipios[['Codigo_Municipio', 'Município', 'Sigla_UF']], how='right',left_on=['Município', 'Sigla_UF'], right_on=['Município', 'Sigla_UF'])\n",
    "    df = df.drop(['Sigla_UF', 'Município'], axis=1)\n",
    "    df = df[['Codigo_Municipio'] + [col for col in df.columns if col != 'Codigo_Municipio']] \n",
    "    for x in df.columns[1:]:\n",
    "        df = df.rename(columns={x:'Produção de ' + x + '(toneladas)'})\n",
    "    return df"
   ]
  },
  {
   "cell_type": "code",
   "execution_count": 16,
   "metadata": {},
   "outputs": [],
   "source": [
    "def CEMPRE(df):\n",
    "    df = df.rename(columns={'Municípios': 'Município', 'Salário médio\\n mensal \\n(R$) (2)': 'Salário médio mensal(R$)'})\n",
    "    df = df.drop(['Unidades da Federação'], axis=1)\n",
    "    transformar_string(df)\n",
    "    Separa_Nome_UF(df)\n",
    "    df = df.merge(cod_municipios[['Codigo_Municipio', 'Município', 'Sigla_UF']], how='right',left_on=['Município', 'Sigla_UF'], right_on=['Município', 'Sigla_UF'])\n",
    "    df = df.drop(['Sigla_UF', 'Município'], axis=1)\n",
    "    df = df[['Codigo_Municipio'] + [col for col in df.columns if col != 'Codigo_Municipio']] \n",
    "    if df['Salário médio mensal(R$)'].dtypes == 'float64':\n",
    "        df['Salário médio mensal(R$)'] = df['Salário médio mensal(R$)'].apply(lambda x: f\"{x:,.1f}\".replace(\",\", \"X\").replace(\".\", \",\").replace(\"X\", \".\"))\n",
    "    return df\n",
    "    "
   ]
  },
  {
   "cell_type": "code",
   "execution_count": null,
   "metadata": {},
   "outputs": [],
   "source": []
  }
 ],
 "metadata": {
  "kernelspec": {
   "display_name": "Python 3",
   "language": "python",
   "name": "python3"
  },
  "language_info": {
   "codemirror_mode": {
    "name": "ipython",
    "version": 3
   },
   "file_extension": ".py",
   "mimetype": "text/x-python",
   "name": "python",
   "nbconvert_exporter": "python",
   "pygments_lexer": "ipython3",
   "version": "3.10.12"
  }
 },
 "nbformat": 4,
 "nbformat_minor": 2
}
