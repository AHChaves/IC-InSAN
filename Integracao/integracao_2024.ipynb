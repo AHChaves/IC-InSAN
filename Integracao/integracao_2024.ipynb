{
 "cells": [
  {
   "cell_type": "code",
   "execution_count": 2,
   "metadata": {},
   "outputs": [],
   "source": [
    "import pandas as pd"
   ]
  },
  {
   "cell_type": "markdown",
   "metadata": {},
   "source": [
    "Utilizando o metodo `%run` para rodar as funções gerais, que poderão ser utilizadas pelo código"
   ]
  },
  {
   "cell_type": "code",
   "execution_count": 3,
   "metadata": {},
   "outputs": [],
   "source": [
    "%run funcoes_gerais.ipynb"
   ]
  },
  {
   "cell_type": "markdown",
   "metadata": {},
   "source": [
    "Importando as tabelas referentes aos anos"
   ]
  },
  {
   "cell_type": "markdown",
   "metadata": {},
   "source": [
    "Renomeando e importando a tabela cnes2024_ambulatorio_consultorio_clinicas_basicas "
   ]
  },
  {
   "cell_type": "code",
   "execution_count": 9,
   "metadata": {},
   "outputs": [],
   "source": [
    "ambulatorio_consultorio_CB = pd.read_csv(\"..\\\\dataset\\\\Condicao de Saude Tipico\\\\Infraestrutura\\\\Numero de clinicas Basicas\\\\cnes2024_ambulatorio_consultorio_clinicas_basicas.csv\")"
   ]
  },
  {
   "cell_type": "markdown",
   "metadata": {},
   "source": [
    "Renomeando e importando a tabela cnes2024_ambulatorio_consultorio_clinica_especializada"
   ]
  },
  {
   "cell_type": "code",
   "execution_count": 11,
   "metadata": {},
   "outputs": [],
   "source": [
    "ambulatorio_consultorio_CE = pd.read_csv(\"..\\\\dataset\\\\Condicao de Saude Tipico\\\\Infraestrutura\\\\Numero de clinicas especializadas\\\\cnes2024_ambulatorio_consultorio_clinica_especializada.csv\")"
   ]
  },
  {
   "cell_type": "markdown",
   "metadata": {},
   "source": [
    "Renomeando e importando a tabela cnes2024_leito_ambulatorio"
   ]
  },
  {
   "cell_type": "code",
   "execution_count": 13,
   "metadata": {},
   "outputs": [],
   "source": [
    "leito_ambulatorio = pd.read_csv(\"..\\\\dataset\\\\Condicao de Saude Tipico\\\\Infraestrutura\\\\numero de Leitos\\\\cnes2024_leito_ambulatorio.csv\")"
   ]
  },
  {
   "cell_type": "markdown",
   "metadata": {},
   "source": [
    "Renomeando e importando a tabela cnes2024_leito_complementar\n"
   ]
  },
  {
   "cell_type": "code",
   "execution_count": 14,
   "metadata": {},
   "outputs": [],
   "source": [
    "leito_complementar = pd.read_csv(\"..\\\\dataset\\\\Condicao de Saude Tipico\\\\Infraestrutura\\\\numero de Leitos\\\\cnes2024_leito_complementar.csv\")"
   ]
  },
  {
   "cell_type": "markdown",
   "metadata": {},
   "source": [
    "Renomeando e importando a tabela cnes2024_leito_normal"
   ]
  },
  {
   "cell_type": "code",
   "execution_count": 15,
   "metadata": {},
   "outputs": [],
   "source": [
    "leito_normal = pd.read_excel(\"..\\\\dataset\\\\Condicao de Saude Tipico\\\\Infraestrutura\\\\numero de Leitos\\\\cnes2024_leito_normal.xlsx\")"
   ]
  },
  {
   "cell_type": "markdown",
   "metadata": {},
   "source": [
    "Renomeando e importando a tabela cnes2024_leito_urgencia"
   ]
  },
  {
   "cell_type": "code",
   "execution_count": 16,
   "metadata": {},
   "outputs": [],
   "source": [
    "leito_urgencia = pd.read_csv(\"..\\\\dataset\\\\Condicao de Saude Tipico\\\\Infraestrutura\\\\numero de Leitos\\\\cnes2024_leito_urgencia.csv\")"
   ]
  },
  {
   "cell_type": "markdown",
   "metadata": {},
   "source": [
    "Renomeando e importando a tabela do novo CAGED"
   ]
  },
  {
   "cell_type": "code",
   "execution_count": null,
   "metadata": {},
   "outputs": [],
   "source": [
    "# Carregar o arquivo Excel\n",
    "arquivo = \"seuarquivo.xlsx\"  # Substitua pelo caminho correto\n",
    "df = pd.read_excel(arquivo)\n",
    "\n",
    "# Filtrar colunas que começam com \"2024\" ou que não começam com um ano (4 dígitos)\n",
    "colunas_selecionadas = [col for col in df.columns if col.startswith(\"2024\") or not col[:4].isdigit()]\n",
    "\n",
    "# Criar um novo DataFrame com as colunas filtradas\n",
    "df_filtrado = df[colunas_selecionadas]\n",
    "\n",
    "# Exibir as primeiras linhas para conferir\n",
    "print(df_filtrado.head())\n"
   ]
  }
 ],
 "metadata": {
  "kernelspec": {
   "display_name": "base",
   "language": "python",
   "name": "python3"
  },
  "language_info": {
   "codemirror_mode": {
    "name": "ipython",
    "version": 3
   },
   "file_extension": ".py",
   "mimetype": "text/x-python",
   "name": "python",
   "nbconvert_exporter": "python",
   "pygments_lexer": "ipython3",
   "version": "3.9.7"
  }
 },
 "nbformat": 4,
 "nbformat_minor": 2
}
