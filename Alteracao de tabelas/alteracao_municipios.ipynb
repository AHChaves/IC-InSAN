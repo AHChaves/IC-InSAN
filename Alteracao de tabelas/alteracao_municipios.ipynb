{
 "cells": [
  {
   "cell_type": "code",
   "execution_count": 104,
   "metadata": {},
   "outputs": [],
   "source": [
    "import pandas as pd\n",
    "import numpy as np"
   ]
  },
  {
   "cell_type": "code",
   "execution_count": 105,
   "metadata": {},
   "outputs": [],
   "source": [
    "municipios  = pd.read_excel(\"../dataset/RELATORIO_DTB_BRASIL_MUNICIPIO.ods\")"
   ]
  },
  {
   "cell_type": "code",
   "execution_count": 106,
   "metadata": {},
   "outputs": [],
   "source": [
    "caged = pd.read_excel(\"../dataset/Economico/Renda e Desenvolvimento/PIB/caged_Atualizado.xlsx\")"
   ]
  },
  {
   "cell_type": "code",
   "execution_count": 107,
   "metadata": {},
   "outputs": [
    {
     "data": {
      "application/vnd.microsoft.datawrangler.viewer.v0+json": {
       "columns": [
        {
         "name": "index",
         "rawType": "int64",
         "type": "integer"
        },
        {
         "name": "UF",
         "rawType": "int64",
         "type": "integer"
        },
        {
         "name": "Nome_UF",
         "rawType": "object",
         "type": "string"
        },
        {
         "name": "Região Geográfica Intermediária",
         "rawType": "int64",
         "type": "integer"
        },
        {
         "name": "Nome Região Geográfica Intermediária",
         "rawType": "object",
         "type": "string"
        },
        {
         "name": "Região Geográfica Imediata",
         "rawType": "int64",
         "type": "integer"
        },
        {
         "name": "Nome Região Geográfica Imediata",
         "rawType": "object",
         "type": "string"
        },
        {
         "name": "Mesorregião Geográfica",
         "rawType": "int64",
         "type": "integer"
        },
        {
         "name": "Nome_Mesorregião",
         "rawType": "object",
         "type": "string"
        },
        {
         "name": "Microrregião Geográfica",
         "rawType": "int64",
         "type": "integer"
        },
        {
         "name": "Nome_Microrregião",
         "rawType": "object",
         "type": "string"
        },
        {
         "name": "Município",
         "rawType": "int64",
         "type": "integer"
        },
        {
         "name": "Código Município Completo",
         "rawType": "int64",
         "type": "integer"
        },
        {
         "name": "Nome_Município",
         "rawType": "object",
         "type": "string"
        }
       ],
       "conversionMethod": "pd.DataFrame",
       "ref": "06ae7f07-a6c8-4011-86d2-a4a980492edb",
       "rows": [
        [
         "0",
         "11",
         "Rondônia",
         "1102",
         "Ji-Paraná",
         "110005",
         "Cacoal",
         "2",
         "Leste Rondoniense",
         "6",
         "Cacoal",
         "15",
         "1100015",
         "Alta Floresta D'Oeste"
        ],
        [
         "1",
         "11",
         "Rondônia",
         "1102",
         "Ji-Paraná",
         "110005",
         "Cacoal",
         "2",
         "Leste Rondoniense",
         "6",
         "Cacoal",
         "379",
         "1100379",
         "Alto Alegre dos Parecis"
        ],
        [
         "2",
         "11",
         "Rondônia",
         "1101",
         "Porto Velho",
         "110002",
         "Ariquemes",
         "2",
         "Leste Rondoniense",
         "3",
         "Ariquemes",
         "403",
         "1100403",
         "Alto Paraíso"
        ],
        [
         "3",
         "11",
         "Rondônia",
         "1102",
         "Ji-Paraná",
         "110004",
         "Ji-Paraná",
         "2",
         "Leste Rondoniense",
         "5",
         "Alvorada D'Oeste",
         "346",
         "1100346",
         "Alvorada D'Oeste"
        ],
        [
         "4",
         "11",
         "Rondônia",
         "1101",
         "Porto Velho",
         "110002",
         "Ariquemes",
         "2",
         "Leste Rondoniense",
         "3",
         "Ariquemes",
         "23",
         "1100023",
         "Ariquemes"
        ]
       ],
       "shape": {
        "columns": 13,
        "rows": 5
       }
      },
      "text/html": [
       "<div>\n",
       "<style scoped>\n",
       "    .dataframe tbody tr th:only-of-type {\n",
       "        vertical-align: middle;\n",
       "    }\n",
       "\n",
       "    .dataframe tbody tr th {\n",
       "        vertical-align: top;\n",
       "    }\n",
       "\n",
       "    .dataframe thead th {\n",
       "        text-align: right;\n",
       "    }\n",
       "</style>\n",
       "<table border=\"1\" class=\"dataframe\">\n",
       "  <thead>\n",
       "    <tr style=\"text-align: right;\">\n",
       "      <th></th>\n",
       "      <th>UF</th>\n",
       "      <th>Nome_UF</th>\n",
       "      <th>Região Geográfica Intermediária</th>\n",
       "      <th>Nome Região Geográfica Intermediária</th>\n",
       "      <th>Região Geográfica Imediata</th>\n",
       "      <th>Nome Região Geográfica Imediata</th>\n",
       "      <th>Mesorregião Geográfica</th>\n",
       "      <th>Nome_Mesorregião</th>\n",
       "      <th>Microrregião Geográfica</th>\n",
       "      <th>Nome_Microrregião</th>\n",
       "      <th>Município</th>\n",
       "      <th>Código Município Completo</th>\n",
       "      <th>Nome_Município</th>\n",
       "    </tr>\n",
       "  </thead>\n",
       "  <tbody>\n",
       "    <tr>\n",
       "      <th>0</th>\n",
       "      <td>11</td>\n",
       "      <td>Rondônia</td>\n",
       "      <td>1102</td>\n",
       "      <td>Ji-Paraná</td>\n",
       "      <td>110005</td>\n",
       "      <td>Cacoal</td>\n",
       "      <td>2</td>\n",
       "      <td>Leste Rondoniense</td>\n",
       "      <td>6</td>\n",
       "      <td>Cacoal</td>\n",
       "      <td>15</td>\n",
       "      <td>1100015</td>\n",
       "      <td>Alta Floresta D'Oeste</td>\n",
       "    </tr>\n",
       "    <tr>\n",
       "      <th>1</th>\n",
       "      <td>11</td>\n",
       "      <td>Rondônia</td>\n",
       "      <td>1102</td>\n",
       "      <td>Ji-Paraná</td>\n",
       "      <td>110005</td>\n",
       "      <td>Cacoal</td>\n",
       "      <td>2</td>\n",
       "      <td>Leste Rondoniense</td>\n",
       "      <td>6</td>\n",
       "      <td>Cacoal</td>\n",
       "      <td>379</td>\n",
       "      <td>1100379</td>\n",
       "      <td>Alto Alegre dos Parecis</td>\n",
       "    </tr>\n",
       "    <tr>\n",
       "      <th>2</th>\n",
       "      <td>11</td>\n",
       "      <td>Rondônia</td>\n",
       "      <td>1101</td>\n",
       "      <td>Porto Velho</td>\n",
       "      <td>110002</td>\n",
       "      <td>Ariquemes</td>\n",
       "      <td>2</td>\n",
       "      <td>Leste Rondoniense</td>\n",
       "      <td>3</td>\n",
       "      <td>Ariquemes</td>\n",
       "      <td>403</td>\n",
       "      <td>1100403</td>\n",
       "      <td>Alto Paraíso</td>\n",
       "    </tr>\n",
       "    <tr>\n",
       "      <th>3</th>\n",
       "      <td>11</td>\n",
       "      <td>Rondônia</td>\n",
       "      <td>1102</td>\n",
       "      <td>Ji-Paraná</td>\n",
       "      <td>110004</td>\n",
       "      <td>Ji-Paraná</td>\n",
       "      <td>2</td>\n",
       "      <td>Leste Rondoniense</td>\n",
       "      <td>5</td>\n",
       "      <td>Alvorada D'Oeste</td>\n",
       "      <td>346</td>\n",
       "      <td>1100346</td>\n",
       "      <td>Alvorada D'Oeste</td>\n",
       "    </tr>\n",
       "    <tr>\n",
       "      <th>4</th>\n",
       "      <td>11</td>\n",
       "      <td>Rondônia</td>\n",
       "      <td>1101</td>\n",
       "      <td>Porto Velho</td>\n",
       "      <td>110002</td>\n",
       "      <td>Ariquemes</td>\n",
       "      <td>2</td>\n",
       "      <td>Leste Rondoniense</td>\n",
       "      <td>3</td>\n",
       "      <td>Ariquemes</td>\n",
       "      <td>23</td>\n",
       "      <td>1100023</td>\n",
       "      <td>Ariquemes</td>\n",
       "    </tr>\n",
       "  </tbody>\n",
       "</table>\n",
       "</div>"
      ],
      "text/plain": [
       "   UF   Nome_UF  Região Geográfica Intermediária  \\\n",
       "0  11  Rondônia                             1102   \n",
       "1  11  Rondônia                             1102   \n",
       "2  11  Rondônia                             1101   \n",
       "3  11  Rondônia                             1102   \n",
       "4  11  Rondônia                             1101   \n",
       "\n",
       "  Nome Região Geográfica Intermediária  Região Geográfica Imediata  \\\n",
       "0                            Ji-Paraná                      110005   \n",
       "1                            Ji-Paraná                      110005   \n",
       "2                          Porto Velho                      110002   \n",
       "3                            Ji-Paraná                      110004   \n",
       "4                          Porto Velho                      110002   \n",
       "\n",
       "  Nome Região Geográfica Imediata  Mesorregião Geográfica   Nome_Mesorregião  \\\n",
       "0                          Cacoal                       2  Leste Rondoniense   \n",
       "1                          Cacoal                       2  Leste Rondoniense   \n",
       "2                       Ariquemes                       2  Leste Rondoniense   \n",
       "3                       Ji-Paraná                       2  Leste Rondoniense   \n",
       "4                       Ariquemes                       2  Leste Rondoniense   \n",
       "\n",
       "   Microrregião Geográfica Nome_Microrregião  Município  \\\n",
       "0                        6            Cacoal         15   \n",
       "1                        6            Cacoal        379   \n",
       "2                        3         Ariquemes        403   \n",
       "3                        5  Alvorada D'Oeste        346   \n",
       "4                        3         Ariquemes         23   \n",
       "\n",
       "   Código Município Completo           Nome_Município  \n",
       "0                    1100015    Alta Floresta D'Oeste  \n",
       "1                    1100379  Alto Alegre dos Parecis  \n",
       "2                    1100403             Alto Paraíso  \n",
       "3                    1100346         Alvorada D'Oeste  \n",
       "4                    1100023                Ariquemes  "
      ]
     },
     "execution_count": 107,
     "metadata": {},
     "output_type": "execute_result"
    }
   ],
   "source": [
    "municipios.head()"
   ]
  },
  {
   "cell_type": "code",
   "execution_count": 108,
   "metadata": {},
   "outputs": [
    {
     "name": "stdout",
     "output_type": "stream",
     "text": [
      "<class 'pandas.core.frame.DataFrame'>\n",
      "RangeIndex: 5570 entries, 0 to 5569\n",
      "Data columns (total 13 columns):\n",
      " #   Column                                Non-Null Count  Dtype \n",
      "---  ------                                --------------  ----- \n",
      " 0   UF                                    5570 non-null   int64 \n",
      " 1   Nome_UF                               5570 non-null   object\n",
      " 2   Região Geográfica Intermediária       5570 non-null   int64 \n",
      " 3   Nome Região Geográfica Intermediária  5570 non-null   object\n",
      " 4   Região Geográfica Imediata            5570 non-null   int64 \n",
      " 5   Nome Região Geográfica Imediata       5570 non-null   object\n",
      " 6   Mesorregião Geográfica                5570 non-null   int64 \n",
      " 7   Nome_Mesorregião                      5570 non-null   object\n",
      " 8   Microrregião Geográfica               5570 non-null   int64 \n",
      " 9   Nome_Microrregião                     5570 non-null   object\n",
      " 10  Município                             5570 non-null   int64 \n",
      " 11  Código Município Completo             5570 non-null   int64 \n",
      " 12  Nome_Município                        5570 non-null   object\n",
      "dtypes: int64(7), object(6)\n",
      "memory usage: 565.8+ KB\n"
     ]
    }
   ],
   "source": [
    "municipios.info()"
   ]
  },
  {
   "cell_type": "code",
   "execution_count": 109,
   "metadata": {},
   "outputs": [],
   "source": [
    "cod_municipios  = municipios[['UF', 'Nome_UF', 'Nome_Município', 'Código Município Completo']]"
   ]
  },
  {
   "cell_type": "code",
   "execution_count": 110,
   "metadata": {},
   "outputs": [
    {
     "data": {
      "text/plain": [
       "UF\n",
       "31    853\n",
       "35    645\n",
       "43    497\n",
       "29    417\n",
       "41    399\n",
       "42    295\n",
       "52    246\n",
       "22    224\n",
       "25    223\n",
       "21    217\n",
       "26    185\n",
       "23    184\n",
       "24    167\n",
       "15    144\n",
       "51    141\n",
       "17    139\n",
       "27    102\n",
       "33     92\n",
       "50     79\n",
       "32     78\n",
       "28     75\n",
       "13     62\n",
       "11     52\n",
       "12     22\n",
       "16     16\n",
       "14     15\n",
       "53      1\n",
       "Name: count, dtype: int64"
      ]
     },
     "execution_count": 110,
     "metadata": {},
     "output_type": "execute_result"
    }
   ],
   "source": [
    "cod_municipios['UF'].value_counts()"
   ]
  },
  {
   "cell_type": "code",
   "execution_count": 111,
   "metadata": {},
   "outputs": [
    {
     "data": {
      "text/plain": [
       "Nome_UF\n",
       "Minas Gerais           853\n",
       "São Paulo              645\n",
       "Rio Grande do Sul      497\n",
       "Bahia                  417\n",
       "Paraná                 399\n",
       "Santa Catarina         295\n",
       "Goiás                  246\n",
       "Piauí                  224\n",
       "Paraíba                223\n",
       "Maranhão               217\n",
       "Pernambuco             185\n",
       "Ceará                  184\n",
       "Rio Grande do Norte    167\n",
       "Pará                   144\n",
       "Mato Grosso            141\n",
       "Tocantins              139\n",
       "Alagoas                102\n",
       "Rio de Janeiro          92\n",
       "Mato Grosso do Sul      79\n",
       "Espírito Santo          78\n",
       "Sergipe                 75\n",
       "Amazonas                62\n",
       "Rondônia                52\n",
       "Acre                    22\n",
       "Amapá                   16\n",
       "Roraima                 15\n",
       "Distrito Federal         1\n",
       "Name: count, dtype: int64"
      ]
     },
     "execution_count": 111,
     "metadata": {},
     "output_type": "execute_result"
    }
   ],
   "source": [
    "cod_municipios['Nome_UF'].value_counts()"
   ]
  },
  {
   "cell_type": "code",
   "execution_count": 112,
   "metadata": {},
   "outputs": [
    {
     "name": "stderr",
     "output_type": "stream",
     "text": [
      "/tmp/ipykernel_13439/1605149640.py:1: SettingWithCopyWarning: \n",
      "A value is trying to be set on a copy of a slice from a DataFrame.\n",
      "Try using .loc[row_indexer,col_indexer] = value instead\n",
      "\n",
      "See the caveats in the documentation: https://pandas.pydata.org/pandas-docs/stable/user_guide/indexing.html#returning-a-view-versus-a-copy\n",
      "  cod_municipios['Sigla_UF'] = ''\n"
     ]
    }
   ],
   "source": [
    "cod_municipios['Sigla_UF'] = ''"
   ]
  },
  {
   "cell_type": "code",
   "execution_count": 113,
   "metadata": {},
   "outputs": [],
   "source": [
    "ufs_PL_TL = ['Paraná', 'Roraima']\n",
    "ufs_PL_PNL = ['Paraíba', 'Amapá']\n",
    "ufs_duas_palavras = ['Minas Gerais', 'Distrito Federal', 'Espírito Santo', 'Santa Catarina', 'São Paulo']\n",
    "ufs_tres_palavras = ['Mato Grosso do Sul', 'Rio Grande do Norte', 'Rio Grande do Sul']\n",
    "ufs_outros = ['Acre','Rondônia','Amazonas','Sergipe', 'Alagoas', 'Tocantins', 'Pará', 'Ceará', 'Pernambuco', 'Maranhão',\n",
    "              'Piauí', 'Goiás', 'Bahia', ]\n",
    "\n",
    "i = 0\n",
    "\n",
    "for index, row in cod_municipios.iterrows():\n",
    "    nome_UF = row['Nome_UF'].split()\n",
    "    if row['Nome_UF'] == 'Rio de Janeiro':\n",
    "        cod_municipios.iat[i, 4] = nome_UF[0][0][0] + nome_UF[2][0][0]\n",
    "    elif row['Nome_UF'] == 'Mato Grosso':\n",
    "        cod_municipios.iat[i, 4] = nome_UF[0][0][0] + nome_UF[0][2][0].upper()\n",
    "    elif row['Nome_UF'] in ufs_PL_TL:\n",
    "        cod_municipios.iat[i, 4] = nome_UF[0][0] + nome_UF[0][2].upper()\n",
    "    elif row['Nome_UF'] in ufs_PL_PNL:\n",
    "        cod_municipios.iat[i, 4] = nome_UF[0][0] + nome_UF[0][-2].upper()\n",
    "    elif row['Nome_UF'] in ufs_tres_palavras:\n",
    "        cod_municipios.iat[i, 4] = nome_UF[0][0][0] + nome_UF[3][0][0]\n",
    "    elif row['Nome_UF'] in ufs_duas_palavras:\n",
    "        cod_municipios.iat[i, 4] = nome_UF[0][0][0] + nome_UF[1][0][0]\n",
    "    elif row['Nome_UF'] in ufs_outros:\n",
    "        cod_municipios.iat[i, 4] = nome_UF[0][0] + nome_UF[0][1].upper()\n",
    "    i = i+1"
   ]
  },
  {
   "cell_type": "code",
   "execution_count": 114,
   "metadata": {},
   "outputs": [],
   "source": [
    "cod_municipios = cod_municipios.rename(columns={'Código Município Completo': 'Codigo_Municipio', 'Nome_Município':'Município'})"
   ]
  },
  {
   "cell_type": "code",
   "execution_count": 115,
   "metadata": {},
   "outputs": [],
   "source": [
    "cod_municipios = cod_municipios.merge(caged[['Codigo_Municipio','Codigo_Municipio_2']], how='right', right_on=\"Codigo_Municipio\", left_on=\"Codigo_Municipio\")"
   ]
  },
  {
   "cell_type": "code",
   "execution_count": 116,
   "metadata": {},
   "outputs": [
    {
     "data": {
      "application/vnd.microsoft.datawrangler.viewer.v0+json": {
       "columns": [
        {
         "name": "index",
         "rawType": "int64",
         "type": "integer"
        },
        {
         "name": "UF",
         "rawType": "int64",
         "type": "integer"
        },
        {
         "name": "Nome_UF",
         "rawType": "object",
         "type": "string"
        },
        {
         "name": "Município",
         "rawType": "object",
         "type": "string"
        },
        {
         "name": "Codigo_Municipio",
         "rawType": "int64",
         "type": "integer"
        },
        {
         "name": "Sigla_UF",
         "rawType": "object",
         "type": "string"
        },
        {
         "name": "Codigo_Municipio_2",
         "rawType": "int64",
         "type": "integer"
        }
       ],
       "conversionMethod": "pd.DataFrame",
       "ref": "99cb5647-abfa-4109-915d-420a52a584db",
       "rows": [
        [
         "0",
         "11",
         "Rondônia",
         "Alta Floresta D'Oeste",
         "1100015",
         "RO",
         "110001"
        ],
        [
         "1",
         "11",
         "Rondônia",
         "Alto Alegre dos Parecis",
         "1100379",
         "RO",
         "110037"
        ],
        [
         "2",
         "11",
         "Rondônia",
         "Alto Paraíso",
         "1100403",
         "RO",
         "110040"
        ],
        [
         "3",
         "11",
         "Rondônia",
         "Alvorada D'Oeste",
         "1100346",
         "RO",
         "110034"
        ],
        [
         "4",
         "11",
         "Rondônia",
         "Ariquemes",
         "1100023",
         "RO",
         "110002"
        ],
        [
         "5",
         "11",
         "Rondônia",
         "Buritis",
         "1100452",
         "RO",
         "110045"
        ],
        [
         "6",
         "11",
         "Rondônia",
         "Cabixi",
         "1100031",
         "RO",
         "110003"
        ],
        [
         "7",
         "11",
         "Rondônia",
         "Cacaulândia",
         "1100601",
         "RO",
         "110060"
        ],
        [
         "8",
         "11",
         "Rondônia",
         "Cacoal",
         "1100049",
         "RO",
         "110004"
        ],
        [
         "9",
         "11",
         "Rondônia",
         "Campo Novo de Rondônia",
         "1100700",
         "RO",
         "110070"
        ],
        [
         "10",
         "11",
         "Rondônia",
         "Candeias do Jamari",
         "1100809",
         "RO",
         "110080"
        ],
        [
         "11",
         "11",
         "Rondônia",
         "Castanheiras",
         "1100908",
         "RO",
         "110090"
        ],
        [
         "12",
         "11",
         "Rondônia",
         "Cerejeiras",
         "1100056",
         "RO",
         "110005"
        ],
        [
         "13",
         "11",
         "Rondônia",
         "Chupinguaia",
         "1100924",
         "RO",
         "110092"
        ],
        [
         "14",
         "11",
         "Rondônia",
         "Colorado do Oeste",
         "1100064",
         "RO",
         "110006"
        ],
        [
         "15",
         "11",
         "Rondônia",
         "Corumbiara",
         "1100072",
         "RO",
         "110007"
        ],
        [
         "16",
         "11",
         "Rondônia",
         "Costa Marques",
         "1100080",
         "RO",
         "110008"
        ],
        [
         "17",
         "11",
         "Rondônia",
         "Cujubim",
         "1100940",
         "RO",
         "110094"
        ],
        [
         "18",
         "11",
         "Rondônia",
         "Espigão D'Oeste",
         "1100098",
         "RO",
         "110009"
        ],
        [
         "19",
         "11",
         "Rondônia",
         "Governador Jorge Teixeira",
         "1101005",
         "RO",
         "110100"
        ],
        [
         "20",
         "11",
         "Rondônia",
         "Guajará-Mirim",
         "1100106",
         "RO",
         "0"
        ],
        [
         "21",
         "11",
         "Rondônia",
         "Itapuã do Oeste",
         "1101104",
         "RO",
         "110110"
        ],
        [
         "22",
         "11",
         "Rondônia",
         "Jaru",
         "1100114",
         "RO",
         "110011"
        ],
        [
         "23",
         "11",
         "Rondônia",
         "Ji-Paraná",
         "1100122",
         "RO",
         "0"
        ],
        [
         "24",
         "11",
         "Rondônia",
         "Machadinho D'Oeste",
         "1100130",
         "RO",
         "110013"
        ],
        [
         "25",
         "11",
         "Rondônia",
         "Ministro Andreazza",
         "1101203",
         "RO",
         "110120"
        ],
        [
         "26",
         "11",
         "Rondônia",
         "Mirante da Serra",
         "1101302",
         "RO",
         "110130"
        ],
        [
         "27",
         "11",
         "Rondônia",
         "Monte Negro",
         "1101401",
         "RO",
         "110140"
        ],
        [
         "28",
         "11",
         "Rondônia",
         "Nova Brasilândia D'Oeste",
         "1100148",
         "RO",
         "110014"
        ],
        [
         "29",
         "11",
         "Rondônia",
         "Nova Mamoré",
         "1100338",
         "RO",
         "110033"
        ],
        [
         "30",
         "11",
         "Rondônia",
         "Nova União",
         "1101435",
         "RO",
         "110143"
        ],
        [
         "31",
         "11",
         "Rondônia",
         "Novo Horizonte do Oeste",
         "1100502",
         "RO",
         "110050"
        ],
        [
         "32",
         "11",
         "Rondônia",
         "Ouro Preto do Oeste",
         "1100155",
         "RO",
         "110015"
        ],
        [
         "33",
         "11",
         "Rondônia",
         "Parecis",
         "1101450",
         "RO",
         "110145"
        ],
        [
         "34",
         "11",
         "Rondônia",
         "Pimenta Bueno",
         "1100189",
         "RO",
         "110018"
        ],
        [
         "35",
         "11",
         "Rondônia",
         "Pimenteiras do Oeste",
         "1101468",
         "RO",
         "110146"
        ],
        [
         "36",
         "11",
         "Rondônia",
         "Porto Velho",
         "1100205",
         "RO",
         "110020"
        ],
        [
         "37",
         "11",
         "Rondônia",
         "Presidente Médici",
         "1100254",
         "RO",
         "110025"
        ],
        [
         "38",
         "11",
         "Rondônia",
         "Primavera de Rondônia",
         "1101476",
         "RO",
         "0"
        ],
        [
         "39",
         "11",
         "Rondônia",
         "Rio Crespo",
         "1100262",
         "RO",
         "110026"
        ],
        [
         "40",
         "11",
         "Rondônia",
         "Rolim de Moura",
         "1100288",
         "RO",
         "110028"
        ],
        [
         "41",
         "11",
         "Rondônia",
         "Santa Luzia D'Oeste",
         "1100296",
         "RO",
         "110029"
        ],
        [
         "42",
         "11",
         "Rondônia",
         "São Felipe D'Oeste",
         "1101484",
         "RO",
         "110148"
        ],
        [
         "43",
         "11",
         "Rondônia",
         "São Francisco do Guaporé",
         "1101492",
         "RO",
         "110149"
        ],
        [
         "44",
         "11",
         "Rondônia",
         "São Miguel do Guaporé",
         "1100320",
         "RO",
         "110032"
        ],
        [
         "45",
         "11",
         "Rondônia",
         "Seringueiras",
         "1101500",
         "RO",
         "110150"
        ],
        [
         "46",
         "11",
         "Rondônia",
         "Teixeirópolis",
         "1101559",
         "RO",
         "110155"
        ],
        [
         "47",
         "11",
         "Rondônia",
         "Theobroma",
         "1101609",
         "RO",
         "110160"
        ],
        [
         "48",
         "11",
         "Rondônia",
         "Urupá",
         "1101708",
         "RO",
         "110170"
        ],
        [
         "49",
         "11",
         "Rondônia",
         "Vale do Anari",
         "1101757",
         "RO",
         "110175"
        ]
       ],
       "shape": {
        "columns": 6,
        "rows": 5570
       }
      },
      "text/html": [
       "<div>\n",
       "<style scoped>\n",
       "    .dataframe tbody tr th:only-of-type {\n",
       "        vertical-align: middle;\n",
       "    }\n",
       "\n",
       "    .dataframe tbody tr th {\n",
       "        vertical-align: top;\n",
       "    }\n",
       "\n",
       "    .dataframe thead th {\n",
       "        text-align: right;\n",
       "    }\n",
       "</style>\n",
       "<table border=\"1\" class=\"dataframe\">\n",
       "  <thead>\n",
       "    <tr style=\"text-align: right;\">\n",
       "      <th></th>\n",
       "      <th>UF</th>\n",
       "      <th>Nome_UF</th>\n",
       "      <th>Município</th>\n",
       "      <th>Codigo_Municipio</th>\n",
       "      <th>Sigla_UF</th>\n",
       "      <th>Codigo_Municipio_2</th>\n",
       "    </tr>\n",
       "  </thead>\n",
       "  <tbody>\n",
       "    <tr>\n",
       "      <th>0</th>\n",
       "      <td>11</td>\n",
       "      <td>Rondônia</td>\n",
       "      <td>Alta Floresta D'Oeste</td>\n",
       "      <td>1100015</td>\n",
       "      <td>RO</td>\n",
       "      <td>110001</td>\n",
       "    </tr>\n",
       "    <tr>\n",
       "      <th>1</th>\n",
       "      <td>11</td>\n",
       "      <td>Rondônia</td>\n",
       "      <td>Alto Alegre dos Parecis</td>\n",
       "      <td>1100379</td>\n",
       "      <td>RO</td>\n",
       "      <td>110037</td>\n",
       "    </tr>\n",
       "    <tr>\n",
       "      <th>2</th>\n",
       "      <td>11</td>\n",
       "      <td>Rondônia</td>\n",
       "      <td>Alto Paraíso</td>\n",
       "      <td>1100403</td>\n",
       "      <td>RO</td>\n",
       "      <td>110040</td>\n",
       "    </tr>\n",
       "    <tr>\n",
       "      <th>3</th>\n",
       "      <td>11</td>\n",
       "      <td>Rondônia</td>\n",
       "      <td>Alvorada D'Oeste</td>\n",
       "      <td>1100346</td>\n",
       "      <td>RO</td>\n",
       "      <td>110034</td>\n",
       "    </tr>\n",
       "    <tr>\n",
       "      <th>4</th>\n",
       "      <td>11</td>\n",
       "      <td>Rondônia</td>\n",
       "      <td>Ariquemes</td>\n",
       "      <td>1100023</td>\n",
       "      <td>RO</td>\n",
       "      <td>110002</td>\n",
       "    </tr>\n",
       "    <tr>\n",
       "      <th>...</th>\n",
       "      <td>...</td>\n",
       "      <td>...</td>\n",
       "      <td>...</td>\n",
       "      <td>...</td>\n",
       "      <td>...</td>\n",
       "      <td>...</td>\n",
       "    </tr>\n",
       "    <tr>\n",
       "      <th>5565</th>\n",
       "      <td>52</td>\n",
       "      <td>Goiás</td>\n",
       "      <td>Vianópolis</td>\n",
       "      <td>5222005</td>\n",
       "      <td>GO</td>\n",
       "      <td>522200</td>\n",
       "    </tr>\n",
       "    <tr>\n",
       "      <th>5566</th>\n",
       "      <td>52</td>\n",
       "      <td>Goiás</td>\n",
       "      <td>Vicentinópolis</td>\n",
       "      <td>5222054</td>\n",
       "      <td>GO</td>\n",
       "      <td>522205</td>\n",
       "    </tr>\n",
       "    <tr>\n",
       "      <th>5567</th>\n",
       "      <td>52</td>\n",
       "      <td>Goiás</td>\n",
       "      <td>Vila Boa</td>\n",
       "      <td>5222203</td>\n",
       "      <td>GO</td>\n",
       "      <td>522220</td>\n",
       "    </tr>\n",
       "    <tr>\n",
       "      <th>5568</th>\n",
       "      <td>52</td>\n",
       "      <td>Goiás</td>\n",
       "      <td>Vila Propício</td>\n",
       "      <td>5222302</td>\n",
       "      <td>GO</td>\n",
       "      <td>522230</td>\n",
       "    </tr>\n",
       "    <tr>\n",
       "      <th>5569</th>\n",
       "      <td>53</td>\n",
       "      <td>Distrito Federal</td>\n",
       "      <td>Brasília</td>\n",
       "      <td>5300108</td>\n",
       "      <td>DF</td>\n",
       "      <td>530010</td>\n",
       "    </tr>\n",
       "  </tbody>\n",
       "</table>\n",
       "<p>5570 rows × 6 columns</p>\n",
       "</div>"
      ],
      "text/plain": [
       "      UF           Nome_UF                Município  Codigo_Municipio  \\\n",
       "0     11          Rondônia    Alta Floresta D'Oeste           1100015   \n",
       "1     11          Rondônia  Alto Alegre dos Parecis           1100379   \n",
       "2     11          Rondônia             Alto Paraíso           1100403   \n",
       "3     11          Rondônia         Alvorada D'Oeste           1100346   \n",
       "4     11          Rondônia                Ariquemes           1100023   \n",
       "...   ..               ...                      ...               ...   \n",
       "5565  52             Goiás               Vianópolis           5222005   \n",
       "5566  52             Goiás           Vicentinópolis           5222054   \n",
       "5567  52             Goiás                 Vila Boa           5222203   \n",
       "5568  52             Goiás            Vila Propício           5222302   \n",
       "5569  53  Distrito Federal                 Brasília           5300108   \n",
       "\n",
       "     Sigla_UF  Codigo_Municipio_2  \n",
       "0          RO              110001  \n",
       "1          RO              110037  \n",
       "2          RO              110040  \n",
       "3          RO              110034  \n",
       "4          RO              110002  \n",
       "...       ...                 ...  \n",
       "5565       GO              522200  \n",
       "5566       GO              522205  \n",
       "5567       GO              522220  \n",
       "5568       GO              522230  \n",
       "5569       DF              530010  \n",
       "\n",
       "[5570 rows x 6 columns]"
      ]
     },
     "execution_count": 116,
     "metadata": {},
     "output_type": "execute_result"
    }
   ],
   "source": [
    "cod_municipios"
   ]
  },
  {
   "cell_type": "code",
   "execution_count": 117,
   "metadata": {},
   "outputs": [],
   "source": [
    "#cod_municipios['Codigo_Municipio_2'].value_counts()"
   ]
  },
  {
   "cell_type": "code",
   "execution_count": 118,
   "metadata": {},
   "outputs": [],
   "source": [
    "#cod_municipios['Codigo_Municipio_2'].replace(0, np.nan, inplace=True)"
   ]
  },
  {
   "cell_type": "code",
   "execution_count": 119,
   "metadata": {},
   "outputs": [
    {
     "data": {
      "text/plain": [
       "Codigo_Municipio_2\n",
       "0         106\n",
       "110001      1\n",
       "354110      1\n",
       "354100      1\n",
       "354090      1\n",
       "         ... \n",
       "290327      1\n",
       "290330      1\n",
       "290323      1\n",
       "290320      1\n",
       "530010      1\n",
       "Name: count, Length: 5465, dtype: int64"
      ]
     },
     "execution_count": 119,
     "metadata": {},
     "output_type": "execute_result"
    }
   ],
   "source": [
    "cod_municipios['Codigo_Municipio_2'].value_counts()"
   ]
  },
  {
   "cell_type": "code",
   "execution_count": 120,
   "metadata": {},
   "outputs": [
    {
     "name": "stdout",
     "output_type": "stream",
     "text": [
      "<class 'pandas.core.frame.DataFrame'>\n",
      "RangeIndex: 5570 entries, 0 to 5569\n",
      "Data columns (total 6 columns):\n",
      " #   Column              Non-Null Count  Dtype \n",
      "---  ------              --------------  ----- \n",
      " 0   UF                  5570 non-null   int64 \n",
      " 1   Nome_UF             5570 non-null   object\n",
      " 2   Município           5570 non-null   object\n",
      " 3   Codigo_Municipio    5570 non-null   int64 \n",
      " 4   Sigla_UF            5570 non-null   object\n",
      " 5   Codigo_Municipio_2  5570 non-null   int64 \n",
      "dtypes: int64(3), object(3)\n",
      "memory usage: 261.2+ KB\n"
     ]
    }
   ],
   "source": [
    "cod_municipios.info()"
   ]
  },
  {
   "cell_type": "code",
   "execution_count": 121,
   "metadata": {},
   "outputs": [
    {
     "data": {
      "text/plain": [
       "Sigla_UF\n",
       "MG    853\n",
       "SP    645\n",
       "RS    497\n",
       "BA    417\n",
       "PR    399\n",
       "SC    295\n",
       "GO    246\n",
       "PI    224\n",
       "PB    223\n",
       "MA    217\n",
       "PE    185\n",
       "CE    184\n",
       "RN    167\n",
       "PA    144\n",
       "MT    141\n",
       "TO    139\n",
       "AL    102\n",
       "RJ     92\n",
       "MS     79\n",
       "ES     78\n",
       "SE     75\n",
       "AM     62\n",
       "RO     52\n",
       "AC     22\n",
       "AP     16\n",
       "RR     15\n",
       "DF      1\n",
       "Name: count, dtype: int64"
      ]
     },
     "execution_count": 121,
     "metadata": {},
     "output_type": "execute_result"
    }
   ],
   "source": [
    "cod_municipios['Sigla_UF'].value_counts()"
   ]
  },
  {
   "cell_type": "code",
   "execution_count": 122,
   "metadata": {},
   "outputs": [
    {
     "data": {
      "text/plain": [
       "Nome_UF\n",
       "Minas Gerais           853\n",
       "São Paulo              645\n",
       "Rio Grande do Sul      497\n",
       "Bahia                  417\n",
       "Paraná                 399\n",
       "Santa Catarina         295\n",
       "Goiás                  246\n",
       "Piauí                  224\n",
       "Paraíba                223\n",
       "Maranhão               217\n",
       "Pernambuco             185\n",
       "Ceará                  184\n",
       "Rio Grande do Norte    167\n",
       "Pará                   144\n",
       "Mato Grosso            141\n",
       "Tocantins              139\n",
       "Alagoas                102\n",
       "Rio de Janeiro          92\n",
       "Mato Grosso do Sul      79\n",
       "Espírito Santo          78\n",
       "Sergipe                 75\n",
       "Amazonas                62\n",
       "Rondônia                52\n",
       "Acre                    22\n",
       "Amapá                   16\n",
       "Roraima                 15\n",
       "Distrito Federal         1\n",
       "Name: count, dtype: int64"
      ]
     },
     "execution_count": 122,
     "metadata": {},
     "output_type": "execute_result"
    }
   ],
   "source": [
    "cod_municipios['Nome_UF'].value_counts()"
   ]
  },
  {
   "cell_type": "code",
   "execution_count": 123,
   "metadata": {},
   "outputs": [],
   "source": [
    "cod_municipios.to_csv(\"../dataset/Código dos Municípios\", index=False)"
   ]
  }
 ],
 "metadata": {
  "kernelspec": {
   "display_name": "Python 3",
   "language": "python",
   "name": "python3"
  },
  "language_info": {
   "codemirror_mode": {
    "name": "ipython",
    "version": 3
   },
   "file_extension": ".py",
   "mimetype": "text/x-python",
   "name": "python",
   "nbconvert_exporter": "python",
   "pygments_lexer": "ipython3",
   "version": "3.12.3"
  }
 },
 "nbformat": 4,
 "nbformat_minor": 2
}
